{
 "cells": [
  {
   "cell_type": "markdown",
   "metadata": {},
   "source": [
    "Посмотрим, как ой вклад в образование продольной завихрености дает каждое из слагаемых в уравненийй. Затем возможно удастся ассоциировать эти слагаемые с конкретным физическим механизмом. "
   ]
  },
  {
   "cell_type": "markdown",
   "metadata": {},
   "source": [
    "Системы уравнений для завихрености\n",
    "$$\n",
    "\\frac{\\partial \\vec \\omega}{\\partial t} + (\\vec v , \\nabla) \\vec \\omega - (\\vec \\omega , \\nabla) \\vec v = \\nu \\Delta \\vec \\omega\n",
    "$$\n",
    "\n",
    "Здесь производная завихрености по рвемени складывается из трех частей: конфекция, деформация вихревых линий и вязкая диссипация. Если вспомнить физический смысл воторого слагаемого, то его можно переписать в дрругом виде\n",
    "\n",
    "$$ \n",
    "(\\vec \\omega , \\nabla ) \\vec v = \\Phi \\vec \\omega\n",
    "$$\n",
    "\n",
    "Здесь $\\Phi -$ тензор скоростей деформаций. Формулу еще нужно проверить. "
   ]
  },
  {
   "cell_type": "markdown",
   "metadata": {},
   "source": [
    "Проектируя уравнение на ось трубы получаем уравнение на продольную компоненты завихрености $\\omega_x$\n",
    "\n",
    "$$\n",
    "\\frac{\\partial \\omega_x}{\\partial t} = - u \\frac{\\partial \\omega_x}{\\partial x} - v \\frac{\\partial \\omega_x}{\\partial r} - \\frac{w}{r} \\frac{\\partial \\omega_x}{\\partial \\theta} + \\omega_x \\frac{\\partial u}{\\partial x} + \\omega_r \\frac{\\partial u}{\\partial r} + \\frac{\\omega_\\theta}{r} \\frac{\\partial u}{\\partial \\theta} + \\nu \\Delta \\omega_x\n",
    "$$\n",
    "\n",
    "или\n",
    "\n",
    "$$\n",
    "\\omega_x \\frac{\\partial u}{\\partial x} + \\omega_r \\frac{1}{2} \\left ( \\frac{\\partial u}{\\partial r} + \\frac{\\partial v}{\\partial x} \\right) + \\omega_\\theta \\frac{1}{2} \\left( \\frac{\\partial u}{r \\partial \\theta} + \\frac{\\partial w}{\\partial x} \\right)\n",
    "$$\n",
    "\n",
    "В первую очередь интерес предствляет именно второе и третье слагаемые, но по большей части они равны друг другу по значению и противоположны по знаку. В случае поле скорости не зависит от х, они в сумме дают точно ноль. Можно выделить из них ту часть, котороя зависит от х, и считать только ее. "
   ]
  },
  {
   "cell_type": "markdown",
   "metadata": {},
   "source": [
    "$$\n",
    "\\omega_r \\frac{\\partial u}{\\partial r} + \\omega_\\theta \\frac{\\partial u}{r \\partial \\theta} = \n",
    "\\left( \\frac{\\partial u}{r \\partial \\theta} - \\frac{\\partial w}{\\partial x} \\right)  \\frac{\\partial u}{\\partial r} + \n",
    "\\left( \\frac{\\partial v}{\\partial x} - \\frac{\\partial u}{\\partial r} \\right)  \\frac{\\partial u}{r \\partial \\theta} =\n",
    "- \\frac{\\partial w}{\\partial x} \\frac{\\partial u}{\\partial r} + \\frac{\\partial v}{\\partial x} \\frac{\\partial u}{r \\partial \\theta} \n",
    "$$"
   ]
  },
  {
   "cell_type": "code",
   "execution_count": 1,
   "metadata": {
    "collapsed": true
   },
   "outputs": [],
   "source": [
    "import tools\n",
    "import pipeSym_func as sym\n",
    "import numpy as np\n",
    "import matplotlib.pyplot as plt\n",
    "%matplotlib inline"
   ]
  },
  {
   "cell_type": "code",
   "execution_count": 2,
   "metadata": {
    "collapsed": true
   },
   "outputs": [],
   "source": [
    "import pipeSym_func as sys\n",
    "import math"
   ]
  },
  {
   "cell_type": "code",
   "execution_count": 3,
   "metadata": {
    "collapsed": false
   },
   "outputs": [],
   "source": [
    "t, dt, cf, Re, vel0 = sym.read_cp(\"../orig-edge/Re2200.scp\")"
   ]
  },
  {
   "cell_type": "code",
   "execution_count": 4,
   "metadata": {
    "collapsed": false
   },
   "outputs": [
    {
     "name": "stdout",
     "output_type": "stream",
     "text": [
      "Xmax=120.000000, epsr=0.250000, nsym=2\n",
      "Im=1024, Jm=40, Km=32\n",
      "hx=0.117188, ht=0.049087, real_nsym=2.000000\n",
      "Re=2200.000000\n"
     ]
    }
   ],
   "source": [
    "sym.look()"
   ]
  },
  {
   "cell_type": "code",
   "execution_count": 6,
   "metadata": {
    "collapsed": false
   },
   "outputs": [
    {
     "name": "stdout",
     "output_type": "stream",
     "text": [
      "0.0 0.298062277094 0.688934885581 2200.0 0.99988305398\n"
     ]
    }
   ],
   "source": [
    "print t, dt, cf, Re, vel0.max()"
   ]
  },
  {
   "cell_type": "code",
   "execution_count": 7,
   "metadata": {
    "collapsed": false
   },
   "outputs": [],
   "source": [
    "Im = sym.wr.dimx.Im\n",
    "Jm = sym.wr.dimr.Jm\n",
    "Km = sym.wr.dimt.Km"
   ]
  },
  {
   "cell_type": "code",
   "execution_count": 8,
   "metadata": {
    "collapsed": false
   },
   "outputs": [],
   "source": [
    "def deform2_nnn(vel):\n",
    "    u,v,w = vel\n",
    "    \n",
    "    ur_nnf = sym.new_z_pfield()\n",
    "    for k in range(1,Km+1):\n",
    "        for j in range(1,Jm+1):\n",
    "            for i in range(1,Im+1):\n",
    "                ur_nnf[k,j,i] = (u[k,j+1,i] - u[k,j,i]) / sym.wr.dimr.rt1[j] \n",
    "    \n",
    "    ur_nnn = sym.new_z_pfield()\n",
    "    for k in range(1,Km+1):\n",
    "        for j in range(1,Jm+1):\n",
    "            for i in range(1,Im+1):\n",
    "                ur_nnn[k,j,i] = (ur_nnf[k+1,j,i] + ur_nnf[k,j,i])/2\n",
    "    \n",
    "    wx_nfn = sys.new_z_pfield()\n",
    "    for k in range(1,Km+1):\n",
    "        for j in range(1,Jm+1):\n",
    "            for i in range(1,Im+1):\n",
    "                wx_nfn[k,j,i] = (w[k,j,i+1] - w[k,j,i]) / sym.wr.dimx.hx\n",
    "    \n",
    "    wx_nnn = sym.new_z_pfield()\n",
    "    for k in range(1,Km+1):\n",
    "        for j in range(1,Jm+1):\n",
    "            for i in range(1,Im+1):\n",
    "                wx_nnn[k,j,i] = (wx_nfn[k,j+1,i] + wx_nfn[k,j,i])/2\n",
    "                \n",
    "    return - ur_nnn * wx_nnn"
   ]
  },
  {
   "cell_type": "code",
   "execution_count": 9,
   "metadata": {
    "collapsed": false
   },
   "outputs": [],
   "source": [
    "def deform3_nnn(vel):\n",
    "    u,v,w = vel\n",
    "    \n",
    "    ut_nfn = sym.new_z_pfield()\n",
    "    for k in range(1,Km+1):\n",
    "        for j in range(1,Jm+1):\n",
    "            for i in range(1,Im+1):\n",
    "                ut_nfn[k,j,i] = (u[k+1,j,i] - u[k,j,i]) / (sym.wr.dimr.yt[j-1] * sym.wr.dimt.ht)\n",
    "    \n",
    "    ut_nnn = sym.new_z_pfield()\n",
    "    for k in range(1,Km+1):\n",
    "        for j in range(1,Jm+1):\n",
    "            for i in range(1,Im+1):\n",
    "                ut_nnn[k,j,i] = (ut_nfn[k,j+1,i] + ut_nfn[k,j,i])/2\n",
    "               \n",
    "    vx_nnf = sym.new_z_pfield()\n",
    "    for k in range(1,Km+1):\n",
    "        for j in range(1,Jm+1):\n",
    "            for i in range(1,Im+1):\n",
    "                vx_nnf[k,j,i] = (v[k,j,i+1] - v[k,j,i]) / sym.wr.dimx.hx\n",
    "                \n",
    "    vx_nnn = sym.new_z_pfield()\n",
    "    for k in range(1,Km+1):\n",
    "        for j in range(1,Jm+1):\n",
    "            for i in range(1,Im+1):\n",
    "                vx_nnn[k,j,i] = (vx_nnf[k+1,j,i] + vx_nnf[k,j,i])/2\n",
    "                \n",
    "    return ut_nnn * vx_nnn"
   ]
  },
  {
   "cell_type": "code",
   "execution_count": 10,
   "metadata": {
    "collapsed": false
   },
   "outputs": [],
   "source": [
    "def plot(n, fname, vel, om, diform1, diform2, time, ishift=0):\n",
    "    \n",
    "    if (n == 0): mode = \"w\"\n",
    "    else: mode = \"a\"\n",
    "        \n",
    "    with open(fname, mode) as f:\n",
    "        \n",
    "        if (n == 0): f.write('VARIABLES=\"X\" \"Y\" \"Z\" \"R\" \"U\" \"OX\" \"d2\" \"d3\"\\n')\n",
    "        f.write('ZONE I=%d J=%d K=%d\\n' % (Im/4, Jm/2, Km/2))\n",
    "        f.write('SOLUTIONTIME=%f\\n' % time)\n",
    "        if (n > 0): f.write('VARSHARELIST=([1-4])\\n')\n",
    "        ucl = vel[1:-1,1,:].mean(0)\n",
    "        \n",
    "        for k in range(1,Km+1,2):\n",
    "            for j in range(1,Jm+1,2):\n",
    "                for i in range(1,Im+1,4):\n",
    "                    x = i * sym.wr.dimx.hx\n",
    "                    th = k * sym.wr.dimt.ht\n",
    "                    ii = (i + ishift - 1) % Im + 1\n",
    "                     \n",
    "                    r = sym.wr.dimr.rt[j]\n",
    "                    u = vel[k,j,ii] - (1.0 - r**2)\n",
    "                    ox = (om[k,j,i] + om[k,j,i+1])/2\n",
    "                    d1 = diform1[k,j,ii]\n",
    "                    d2 = diform2[k,j,ii]\n",
    "                    \n",
    "                    y = r * math.cos(th)\n",
    "                    z = r * math.sin(th)\n",
    "                    \n",
    "                    if (n == 0): f.write(\"%6.3f %6.3f %6.3f %6.3f %6.3f %6.3f %6.3f %6.3f\\n\" % (x,y,z,r,u,ox,d1,d2))\n",
    "                    else: f.write(\"%6.3f %6.3f %6.3f %6.3f\\n\" % (u,ox,d1,d2))\n",
    "                    \n",
    "        f.close()\n",
    "    return"
   ]
  },
  {
   "cell_type": "code",
   "execution_count": 16,
   "metadata": {
    "collapsed": false
   },
   "outputs": [],
   "source": [
    "class PRT_deform:\n",
    "    def __init__(x):\n",
    "        x.deform = sym.new_z_vfield()\n",
    "        x.n = 0\n",
    "\n",
    "    def __call__(x, nstep, time, dt, vel, velt, om, p, cf):\n",
    "        deform2 = deform2_nnn(vel)\n",
    "        deform3 = deform3_nnn(vel)\n",
    "        \n",
    "        if nstep % 5 == 0:\n",
    "            print '+',\n",
    "            plot(nstep, \"part_deform_video.dat\", vel[0], om[0], deform2, deform3, time)\n",
    "        else:\n",
    "            print '-',\n",
    "            \n",
    "        x.deform[1] += deform2\n",
    "        x.deform[2] += deform3\n",
    "        x.n += 1\n",
    "        \n",
    "    def get(x):\n",
    "        return x.deform/x.n"
   ]
  },
  {
   "cell_type": "code",
   "execution_count": 17,
   "metadata": {
    "collapsed": false
   },
   "outputs": [],
   "source": [
    "prt_deform = PRT_deform()"
   ]
  },
  {
   "cell_type": "code",
   "execution_count": 18,
   "metadata": {
    "collapsed": false
   },
   "outputs": [
    {
     "name": "stdout",
     "output_type": "stream",
     "text": [
      "+ - - - - + - - - - + - - - - + - - - - + - - - - + - - - - + - - - - + - - - - + - - - - + - - - - + - - - - + - - - - + - - - - + - - - - + - - - - + - - - - + - - - - + - - - - + - - - - + - - - - + - - - - + - - - - + - - - - + - - - - + - - - - + - - - - + - - - - + - - - - + - - - - + - - - - + - - - - + - - - - + - - - - + - - - - + - - - - + - - - - + - - - - + - - - - + - - - - + - - - - Planned break! maxnstep reached\n"
     ]
    },
    {
     "name": "stderr",
     "output_type": "stream",
     "text": [
      "/home/user/miniconda/lib/python2.7/site-packages/pipeSym_func.py:155: FutureWarning: comparison to `None` will result in an elementwise object comparison in the future.\n",
      "  if(Re != None): wr.Re.Re = Re\n"
     ]
    }
   ],
   "source": [
    "res = sym.calc(vel0, dt, cf, Re, maxnstep=200, prt=prt_deform, const_dt_chec=True)"
   ]
  },
  {
   "cell_type": "code",
   "execution_count": 19,
   "metadata": {
    "collapsed": true
   },
   "outputs": [],
   "source": [
    "t1, dt1, vel1 = res[:3]"
   ]
  },
  {
   "cell_type": "code",
   "execution_count": 20,
   "metadata": {
    "collapsed": false
   },
   "outputs": [
    {
     "name": "stdout",
     "output_type": "stream",
     "text": [
      "59.6124554189 0.298062277094 0.0\n"
     ]
    }
   ],
   "source": [
    "print t1, dt1, np.abs(vel1-vel0)[:,1:-1,1:-1,1:-1].max()"
   ]
  },
  {
   "cell_type": "code",
   "execution_count": 21,
   "metadata": {
    "collapsed": true
   },
   "outputs": [],
   "source": [
    "deform = prt_deform.get()"
   ]
  },
  {
   "cell_type": "code",
   "execution_count": 22,
   "metadata": {
    "collapsed": false
   },
   "outputs": [],
   "source": [
    "sym.write_cp(\"part_deform_mean.scp\", deform)"
   ]
  },
  {
   "cell_type": "code",
   "execution_count": 7,
   "metadata": {
    "collapsed": true
   },
   "outputs": [],
   "source": [
    "t, dt, cf, Re, deform = sym.read_cp(\"part_deform_mean.scp\")"
   ]
  },
  {
   "cell_type": "code",
   "execution_count": 4,
   "metadata": {
    "collapsed": false
   },
   "outputs": [
    {
     "name": "stdout",
     "output_type": "stream",
     "text": [
      "Xmax=120.000000, epsr=0.250000, nsym=2\n",
      "Im=1024, Jm=40, Km=32\n",
      "hx=0.117188, ht=0.049087, real_nsym=2.000000\n",
      "Re=2200.000000\n"
     ]
    }
   ],
   "source": [
    "sym.look()"
   ]
  },
  {
   "cell_type": "code",
   "execution_count": 6,
   "metadata": {
    "collapsed": false
   },
   "outputs": [
    {
     "data": {
      "text/plain": [
       "(0.0, 0.1, 0.0, array(2200.0))"
      ]
     },
     "execution_count": 6,
     "metadata": {},
     "output_type": "execute_result"
    }
   ],
   "source": [
    "t, dt, cf, Re"
   ]
  },
  {
   "cell_type": "code",
   "execution_count": 8,
   "metadata": {
    "collapsed": true
   },
   "outputs": [],
   "source": [
    "t, dt, cf, Re, velm = sym.read_cp(\"../orig-edge/Re2200-mean.scp\")"
   ]
  },
  {
   "cell_type": "code",
   "execution_count": 27,
   "metadata": {
    "collapsed": false
   },
   "outputs": [
    {
     "data": {
      "text/plain": [
       "(600, 1000)"
      ]
     },
     "execution_count": 27,
     "metadata": {},
     "output_type": "execute_result"
    },
    {
     "data": {
      "image/png": "[encoded data removed]",
      "text/plain": [
       "<matplotlib.figure.Figure at 0x7fdcec347f90>"
      ]
     },
     "metadata": {},
     "output_type": "display_data"
    }
   ],
   "source": [
    "v1 = tools.cs_mean(np.abs(deform[1]), sym.wr.dimr.Jm, sym.wr.dim.epsr, sym.wr.dimt.lt, sym.wr.dim.nsym)\n",
    "v2 = tools.cs_mean(np.abs(deform[2]), sym.wr.dimr.Jm, sym.wr.dim.epsr, sym.wr.dimt.lt, sym.wr.dim.nsym)\n",
    "\n",
    "plt.plot(v1)\n",
    "plt.plot(v2)\n",
    "#plt.plot(v1+v2)\n",
    "plt.xlim(600,1000)"
   ]
  },
  {
   "cell_type": "code",
   "execution_count": 25,
   "metadata": {
    "collapsed": false
   },
   "outputs": [
    {
     "data": {
      "text/plain": [
       "0.006919931619869423"
      ]
     },
     "execution_count": 25,
     "metadata": {},
     "output_type": "execute_result"
    }
   ],
   "source": [
    "deform[1].max()"
   ]
  },
  {
   "cell_type": "code",
   "execution_count": null,
   "metadata": {
    "collapsed": true
   },
   "outputs": [],
   "source": [
    "plt.plot(tools.cs_mean(deform[1], sym.wr.dimr.Jm, sym.wr.dim.epsr, sym.wr.dimt.lt, sym.wr.dim.nsym))"
   ]
  },
  {
   "cell_type": "code",
   "execution_count": null,
   "metadata": {
    "collapsed": true
   },
   "outputs": [],
   "source": []
  },
  {
   "cell_type": "code",
   "execution_count": null,
   "metadata": {
    "collapsed": true
   },
   "outputs": [],
   "source": []
  }
 ],
 "metadata": {
  "kernelspec": {
   "display_name": "Python 2",
   "language": "python",
   "name": "python2"
  },
  "language_info": {
   "codemirror_mode": {
    "name": "ipython",
    "version": 2
   },
   "file_extension": ".py",
   "mimetype": "text/x-python",
   "name": "python",
   "nbconvert_exporter": "python",
   "pygments_lexer": "ipython2",
   "version": "2.7.10"
  }
 },
 "nbformat": 4,
 "nbformat_minor": 0
}
