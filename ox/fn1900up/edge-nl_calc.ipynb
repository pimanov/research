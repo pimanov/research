{
 "cells": [
  {
   "cell_type": "code",
   "execution_count": 1,
   "metadata": {
    "collapsed": true
   },
   "outputs": [],
   "source": [
    "import math"
   ]
  },
  {
   "cell_type": "code",
   "execution_count": 2,
   "metadata": {
    "collapsed": true
   },
   "outputs": [],
   "source": [
    "import pipe_pytools.polar_plot as pp\n",
    "import pipe_pytools.tools as tl\n",
    "import pipe_pytools.grid as gr"
   ]
  },
  {
   "cell_type": "code",
   "execution_count": 3,
   "metadata": {
    "collapsed": true
   },
   "outputs": [],
   "source": [
    "import numpy as np\n",
    "import matplotlib.pyplot as plt\n",
    "%matplotlib inline"
   ]
  },
  {
   "cell_type": "code",
   "execution_count": 4,
   "metadata": {
    "collapsed": true
   },
   "outputs": [],
   "source": [
    "import pipeSym_func as sym"
   ]
  },
  {
   "cell_type": "code",
   "execution_count": 6,
   "metadata": {
    "collapsed": false
   },
   "outputs": [],
   "source": [
    "t,dt,cf,Re,Xmax,epsr,lx,Jm,lt,nsym,vel = tl.get_dcp(\"/home/user/workspace/experiments/change_nsym/ns2000Re1890up.dcp\")"
   ]
  },
  {
   "cell_type": "code",
   "execution_count": 8,
   "metadata": {
    "collapsed": false
   },
   "outputs": [
    {
     "name": "stdout",
     "output_type": "stream",
     "text": [
      "32.1238150488 0.321238150488 0.586820386533 1890.2 120.0 0.25 10 40 5 2.0\n"
     ]
    }
   ],
   "source": [
    "print t,dt,cf,Re,Xmax,epsr,lx,Jm,lt,nsym"
   ]
  },
  {
   "cell_type": "code",
   "execution_count": 9,
   "metadata": {
    "collapsed": false
   },
   "outputs": [],
   "source": [
    "sym.init(Xmax,epsr,nsym,lx,Jm,lt,Re=Re)"
   ]
  },
  {
   "cell_type": "code",
   "execution_count": 10,
   "metadata": {
    "collapsed": false
   },
   "outputs": [
    {
     "name": "stdout",
     "output_type": "stream",
     "text": [
      "Xmax=120.000000, epsr=0.250000, dsym=2.000000\n",
      "Im=1024, Jm=40, Km=32\n",
      "hx=0.117188, ht=0.049087\n",
      "Re=1890.200000\n"
     ]
    }
   ],
   "source": [
    "sym.look()"
   ]
  },
  {
   "cell_type": "code",
   "execution_count": 11,
   "metadata": {
    "collapsed": false
   },
   "outputs": [
    {
     "data": {
      "text/plain": [
       "0.5868203865327648"
      ]
     },
     "execution_count": 11,
     "metadata": {},
     "output_type": "execute_result"
    }
   ],
   "source": [
    "cf"
   ]
  },
  {
   "cell_type": "code",
   "execution_count": 12,
   "metadata": {
    "collapsed": true
   },
   "outputs": [],
   "source": [
    "x = gr.X(2**lx, Xmax)\n",
    "r = gr.R(Jm, epsr)\n",
    "th = gr.Th(2**lt, nsym)"
   ]
  },
  {
   "cell_type": "code",
   "execution_count": 13,
   "metadata": {
    "collapsed": false
   },
   "outputs": [],
   "source": [
    "Im = x.m\n",
    "hx = x.h\n",
    "yt = r.f\n",
    "yt1 = r.f1\n",
    "rt = r.n\n",
    "rt1 = r.n1\n",
    "Km = th.m\n",
    "ht = th.h"
   ]
  },
  {
   "cell_type": "code",
   "execution_count": null,
   "metadata": {
    "collapsed": true
   },
   "outputs": [],
   "source": []
  },
  {
   "cell_type": "code",
   "execution_count": 14,
   "metadata": {
    "collapsed": false
   },
   "outputs": [],
   "source": [
    "class Prt_nl:\n",
    "    def __init__(self):\n",
    "        self.cx = sym.new_z_vfield()\n",
    "        self.dx = sym.new_z_vfield()\n",
    "        self.n = 0\n",
    "        \n",
    "    def __call__(self, nstep, time, dt, vel, velt, om, p, cf):\n",
    "        print '+',\n",
    "        \n",
    "        cux,cvx,cwx = self.cx\n",
    "        d1x,d23x,_ = self.dx\n",
    "        u,v,w = vel\n",
    "        ox,on,ot = om\n",
    "        \n",
    "        ut = np.zeros_like(u)\n",
    "        ur = np.zeros_like(u)\n",
    "        ux = np.zeros_like(u)\n",
    "        vx = np.zeros_like(v)\n",
    "        wx = np.zeros_like(w)\n",
    "        oxx = np.zeros_like(ox)\n",
    "        oxr = np.zeros_like(ox)\n",
    "        oxt = np.zeros_like(ox)\n",
    "\n",
    "\n",
    "        for k in range(1,Km+1):\n",
    "            for j in range(1,Jm+1):\n",
    "                for i in range(1,Im+1):\n",
    "                    ut[k,j,i] = (u[k+1,j,i] - u[k,j,i]) / (rt[j] * ht)\n",
    "                    ur[k,j,i] = (u[k,j+1,i] - u[k,j,i]) / rt1[j]\n",
    "                    ux[k,j,i] = (u[k,j,i+1] - u[k,j,i]) / hx\n",
    "                    vx[k,j,i] = (v[k,j,i+1] - v[k,j,i]) / hx\n",
    "                    wx[k,j,i] = (w[k,j,i+1] - w[k,j,i]) / hx\n",
    "                    oxx[k,j,i] = (ox[k,j,i+1] - ox[k,j,i]) / hx\n",
    "                    oxr[k,j,i] = (ox[k,j+1,i] - ox[k,j,i]) / rt1[j]\n",
    "                    oxt[k,j,i] = (ox[k+1,j,i] - ox[k,j,i]) / (rt[j] * ht)\n",
    "\n",
    "\n",
    "\n",
    "        cux += -u*oxx\n",
    "        cvx += -v*oxr\n",
    "        cwx += -w*oxt\n",
    "        d1x += ox*ux\n",
    "        d23x += vx*ut - ur*wx\n",
    "        self.n += 1\n",
    "        \n",
    "        return\n",
    "    \n",
    "    def __get__(self):\n",
    "        return self.cx / self.n, self.dx / self.n\n",
    "        "
   ]
  },
  {
   "cell_type": "code",
   "execution_count": 15,
   "metadata": {
    "collapsed": true
   },
   "outputs": [],
   "source": [
    "prt_nl = Prt_nl()"
   ]
  },
  {
   "cell_type": "code",
   "execution_count": 17,
   "metadata": {
    "collapsed": false
   },
   "outputs": [
    {
     "name": "stdout",
     "output_type": "stream",
     "text": [
      "+ + + + + + + + + + + + + + + + + + + + + + + + + + + + + + + + + + + + + + + + + + + + + + + + + + + + + + + + + + + + + + + + + + + + + + + + + + + + + + + + + + + + + + + + + + + + + + + + + + + + Planned break! maxnstep reached\n"
     ]
    }
   ],
   "source": [
    "vel1 = vel.copy()\n",
    "res = sym.calc(vel1,dt,cf,Re, maxnstep=100, prt=prt_nl, const_dt_chec=True)"
   ]
  },
  {
   "cell_type": "code",
   "execution_count": 18,
   "metadata": {
    "collapsed": false
   },
   "outputs": [
    {
     "name": "stdout",
     "output_type": "stream",
     "text": [
      "3.96889007638e-05\n"
     ]
    }
   ],
   "source": [
    "print (vel - vel1)[0,1:-1,1:-1,1:-1].max()"
   ]
  },
  {
   "cell_type": "code",
   "execution_count": 19,
   "metadata": {
    "collapsed": false
   },
   "outputs": [
    {
     "data": {
      "text/plain": [
       "[<matplotlib.lines.Line2D at 0x7f934e651a90>]"
      ]
     },
     "execution_count": 19,
     "metadata": {},
     "output_type": "execute_result"
    },
    {
     "data": {
      "image/png": "[encoded data removed]",
      "text/plain": [
       "<matplotlib.figure.Figure at 0x7f934e651b50>"
      ]
     },
     "metadata": {},
     "output_type": "display_data"
    }
   ],
   "source": [
    "plt.plot(vel[0,1:-1,1,1:-1].mean(0))\n",
    "plt.plot(vel1[0,1:-1,1,1:-1].mean(0))"
   ]
  },
  {
   "cell_type": "code",
   "execution_count": 20,
   "metadata": {
    "collapsed": true
   },
   "outputs": [],
   "source": [
    "cx = prt_nl.cx / prt_nl.n"
   ]
  },
  {
   "cell_type": "code",
   "execution_count": 21,
   "metadata": {
    "collapsed": false
   },
   "outputs": [],
   "source": [
    "dx = prt_nl.dx / prt_nl.n"
   ]
  },
  {
   "cell_type": "code",
   "execution_count": 22,
   "metadata": {
    "collapsed": true
   },
   "outputs": [],
   "source": [
    "tl.put_scp(\"fn1900up_cx.scp\", t,dt,cf,Re,Xmax,epsr,lx,Jm,lt,nsym,cx)"
   ]
  },
  {
   "cell_type": "code",
   "execution_count": 23,
   "metadata": {
    "collapsed": true
   },
   "outputs": [],
   "source": [
    "tl.put_scp(\"fn1900up_dx.scp\", t,dt,cf,Re,Xmax,epsr,lx,Jm,lt,nsym,dx)"
   ]
  },
  {
   "cell_type": "code",
   "execution_count": null,
   "metadata": {
    "collapsed": true
   },
   "outputs": [],
   "source": []
  }
 ],
 "metadata": {
  "kernelspec": {
   "display_name": "Python 2",
   "language": "python",
   "name": "python2"
  },
  "language_info": {
   "codemirror_mode": {
    "name": "ipython",
    "version": 2
   },
   "file_extension": ".py",
   "mimetype": "text/x-python",
   "name": "python",
   "nbconvert_exporter": "python",
   "pygments_lexer": "ipython2",
   "version": "2.7.10"
  }
 },
 "nbformat": 4,
 "nbformat_minor": 0
}
