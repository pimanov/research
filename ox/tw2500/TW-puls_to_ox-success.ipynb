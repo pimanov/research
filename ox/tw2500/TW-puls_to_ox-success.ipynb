{
 "cells": [
  {
   "cell_type": "markdown",
   "metadata": {},
   "source": [
    "# Вклад пульсаций в формирование ox\n",
    "\n",
    "На примере бегущей волны. "
   ]
  },
  {
   "cell_type": "markdown",
   "metadata": {},
   "source": [
    "Была посчитана бегущая волна при Re=2500, Xmax=5R, методом отслеживания границы. Скорость сноcа решения оказывается равна $ c_f \\approx 0.78U$, $U -$ максимальная скорость в течении Пуазейля. Чтобы показать, насколько решение близко к бегущей волне, я посчитал энергетическую норму от производной скорости по времени. В сопутствующей системе отсчета решение стационарно, и производная близка к нулю. Для сравнения посчитано значение производной скорости в системе отсчета, движущейся со скоростью $0.5U$. \n",
    "\n",
    "$$\n",
    "\\frac{\\left| \\frac{\\partial \\vec v}{\\partial t} + c_f\\frac{\\partial \\vec v}{\\partial x} \\right| }\n",
    "{\\left|  \\frac{\\partial \\vec v}{\\partial t} + 0.5\\frac{\\partial \\vec v}{\\partial x} \\right|} \\approx 0.005\n",
    "$$"
   ]
  },
  {
   "cell_type": "markdown",
   "metadata": {},
   "source": [
    "# Средние вдоль трубы\n",
    "\n",
    "Для сравнения с решением на сепаратрисе и для общего предсталвения о структуре этой бегущей волны здесь приведены некоторые величины, осредненные вдоль трубы. Это \n",
    "1. продольная скорость $U = \\overline{u}^x$,\n",
    "2. Амплитуда пульсаций $(\\overline{u'u'}^x)^{1/2}$\n",
    "3. Продольная завихренность $\\Omega_x = \\overline{\\omega_x}^x$\n",
    "4. Движение в поперечной плоскости $(V,W) = \\overline{(v,w)}^x$\n",
    "\n",
    "<img src=\"tw-means.png\">"
   ]
  },
  {
   "cell_type": "markdown",
   "metadata": {},
   "source": [
    "## Вклад пульсаций в формирование ox"
   ]
  },
  {
   "cell_type": "markdown",
   "metadata": {},
   "source": [
    "<img src=\"nonlin_to_ox.png\" align=\"left\">"
   ]
  },
  {
   "cell_type": "markdown",
   "metadata": {},
   "source": [
    "Левая картинка - вклад от пульсационной составляющей движения в продольную завихренность. Ключевая картинка здесь. Вычисляется, как \n",
    "\n",
    "$$\n",
    "\\overline{d_x(\\vec v', \\vec \\omega')}^x\n",
    "$$\n",
    "\n",
    "при этом\n",
    "\n",
    "$$\n",
    "d(\\vec v, \\vec \\omega) = rot(\\vec v \\times \\vec \\omega) = - (\\vec v, \\nabla) \\vec \\omega + (\\vec \\omega, \\nabla) \\vec v\n",
    "$$\n",
    "\n",
    "Правая картинка - вклад среднего течения в формирование ox. Оказывается пренебрежимо мал. Вычисляется как\n",
    "\n",
    "$$\n",
    "d_x(\\vec V, \\vec \\Omega)\n",
    "$$\n",
    "\n",
    "В сумме эти слагаемые формируют среднюю Ox\n",
    "\n",
    "$$\n",
    "\\frac{\\partial \\Omega_x}{\\partial t} = \\overline{d_x(\\vec v', \\vec \\omega')}^x + d_x(\\vec V, \\vec \\Omega) + \\nu \\nabla \\omega_x\n",
    "$$\n",
    "\n",
    "При этом, так как ${\\partial \\Omega_x}/{\\partial t} = 0$, сумма посчитанных слагаемых в точности равна вязкому слагаемому. "
   ]
  },
  {
   "cell_type": "markdown",
   "metadata": {},
   "source": [
    "## Теория"
   ]
  },
  {
   "cell_type": "markdown",
   "metadata": {},
   "source": [
    "Уравнение для $\\vec \\omega = rot(\\vec v) $ можно записать в двух разных формах\n",
    "\n",
    "$$\n",
    "\\frac{\\partial \\vec \\omega}{\\partial t} =  - (\\vec v, \\nabla) \\vec \\omega + (\\vec \\omega , \\nabla) \\vec v + \\nu \\Delta \\vec \\omega\n",
    "$$\n",
    "\n",
    "$$\n",
    "\\frac{\\partial \\vec \\omega}{\\partial t} =  rot(\\vec v \\times \\vec \\omega) + \\nu rot(rot(\\vec \\omega))\n",
    "$$\n",
    "\n",
    "Для краткости обозначим \n",
    "\n",
    "$$\n",
    "d(\\vec v, \\vec \\omega) = rot(\\vec v \\times \\vec \\omega) = - (\\vec v, \\nabla) \\vec \\omega + (\\vec \\omega , \\nabla) \\vec v \n",
    "$$\n",
    "\n",
    "Тогда уравнение приобретет новый вид\n",
    "\n",
    "\n",
    "$$\n",
    "\\frac{\\partial \\vec \\omega}{\\partial t} =  d(\\vec v, \\vec \\omega) + \\nu \\Delta \\vec \\omega\n",
    "$$\n",
    "\n",
    "После осреднения по x получим\n",
    "\n",
    "\n",
    "$$\n",
    "\\frac{\\partial \\vec \\Omega}{\\partial t} =  d(\\vec V, \\vec \\Omega) + \\overline{d(\\vec v', \\vec \\omega') \\ }^x +  \\nu \\Delta \\Omega_x\n",
    "$$\n",
    "\n",
    "В итоге можно отдельно посчитать вклад от пульсаций и вклад от среднего течения."
   ]
  },
  {
   "cell_type": "markdown",
   "metadata": {},
   "source": [
    "## Замечание\n",
    "\n",
    "В данном случае d(v,om) было посчитано, как rot(v x om). При этом весь необходимый для этого код был просто скопирован из программы. Таким образом я смог добиться того, что контрольные суммы выполняются. В частности \n",
    "\n",
    "$$\n",
    "d(\\vec v, \\vec \\omega) + \\nu \\Delta \\vec \\omega + c_f \\frac{\\partial \\vec \\omega}{\\partial x} = 0\n",
    "$$\n",
    "\n",
    "$$\n",
    "\\overline{d(\\vec v, \\vec \\omega)}^x = d(\\vec V, \\vec \\Omega) + \\overline{d(\\vec v', \\vec \\omega')}^x = - \\nu \\Delta \\vec \\Omega\n",
    "$$\n",
    "\n",
    "Выполняется с такой точностью, что сумма слагаемых на 2-3 порядка меньше, чем каждое из них, в максимум норме. "
   ]
  },
  {
   "cell_type": "markdown",
   "metadata": {},
   "source": [
    "В общем получилось так, что вклад от пульсаций был посчитан верно, а вклад от среднего течения - вообще нет. В чем была проблема для меня до сих пор остается загадкой."
   ]
  }
 ],
 "metadata": {
  "kernelspec": {
   "display_name": "Python 2",
   "language": "python",
   "name": "python2"
  },
  "language_info": {
   "codemirror_mode": {
    "name": "ipython",
    "version": 2
   },
   "file_extension": ".py",
   "mimetype": "text/x-python",
   "name": "python",
   "nbconvert_exporter": "python",
   "pygments_lexer": "ipython2",
   "version": "2.7.10"
  }
 },
 "nbformat": 4,
 "nbformat_minor": 0
}
