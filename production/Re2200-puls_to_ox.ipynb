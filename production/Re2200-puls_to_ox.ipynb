{
 "cells": [
  {
   "cell_type": "markdown",
   "metadata": {},
   "source": [
    "# Формирование средней завихренности в турбулентном порыве\n",
    "\n",
    "Турбулентный порыв, Ре=2200"
   ]
  },
  {
   "cell_type": "markdown",
   "metadata": {},
   "source": [
    "Уравнение для средней завихренности $\\Omega = \\overline{\\omega}^t$"
   ]
  },
  {
   "cell_type": "markdown",
   "metadata": {},
   "source": [
    "$$\n",
    "\\frac{\\partial \\Omega}{\\partial t} = - rot (V, \\nabla \\Omega) - rot\\overline{(v',\\nabla \\omega')} + \n",
    "c \\frac{\\partial \\Omega}{\\partial x} + \\nu \\Delta \\Omega\n",
    "$$\n",
    "\n",
    "$V = \\overline{v}^t$ - средняя скорость. Осреднение в системе отсчета порыва, двигающейся со скорость $c$\n",
    "\n",
    "$v' = v - V$\n",
    "\n",
    "$\\omega' = \\omega - \\Omega$"
   ]
  },
  {
   "cell_type": "markdown",
   "metadata": {},
   "source": [
    "Обозначим \n",
    "\n",
    "$ dOM = -rot(V, \\nabla \\Omega) + с\\frac{\\partial \\Omega}{\\partial x}$ вклад в пульсации от среднего течения\n",
    "\n",
    "$ dom' = -rot\\overline{(v', \\nabla \\omega')}^t $ вклад от пульсаций $v'$\n",
    "\n",
    "$ dom = dOM + dom' $ суммарный вклад в пульсацийй"
   ]
  },
  {
   "cell_type": "markdown",
   "metadata": {},
   "source": [
    "Далее изучается только продольная компоненты завихренности."
   ]
  },
  {
   "cell_type": "markdown",
   "metadata": {},
   "source": [
    "<img src=\"dom_cs.png\" style=\"float: left\" width=\"400\">\n",
    "Распределение вдоль трубы компонент dom. Осреднение по сечению проводилось по формуле\n",
    "\n",
    "$$\n",
    "Q(x_0) = \\left( \\frac{1}{S} \\int_{x=x_0} q^2 ds \\right) ^ {0.5}\n",
    "$$\n",
    "\n",
    "Пульсации дают вклад в более компактной области. В среднем по сечению пульсации и среднее течение дают практически одинаковый вклад."
   ]
  },
  {
   "cell_type": "markdown",
   "metadata": {},
   "source": [
    "<img src=\"all_dom_map.png\" style=\"float:left\"> Распределение в сечениях $dOM_x$, $dom'_x$, $dom_x$, $OM_x$ - вклада от среднего течения, пульсаций, суммарного вклада в завихренность и, собственно, самой завихренности. Первый три столбца в едином масштабе. Сечения от x=94 до 104 примерно. "
   ]
  },
  {
   "cell_type": "markdown",
   "metadata": {},
   "source": [
    "Отдельно суммарный вклад $dom_x$ в тех же сечениях.\n",
    "\n",
    "<img src=\"dom_map.png\">"
   ]
  },
  {
   "cell_type": "markdown",
   "metadata": {},
   "source": [
    "Вклад от пульсаций $dom'_x$\n",
    "<img src=\"dom1_map.png\">"
   ]
  },
  {
   "cell_type": "markdown",
   "metadata": {},
   "source": [
    "Вклад от среднего течения $dOM_x$\n",
    "\n",
    "<img src=\"dOM_map.png\">"
   ]
  }
 ],
 "metadata": {
  "kernelspec": {
   "display_name": "Python 2",
   "language": "python",
   "name": "python2"
  },
  "language_info": {
   "codemirror_mode": {
    "name": "ipython",
    "version": 2
   },
   "file_extension": ".py",
   "mimetype": "text/x-python",
   "name": "python",
   "nbconvert_exporter": "python",
   "pygments_lexer": "ipython2",
   "version": "2.7.10"
  }
 },
 "nbformat": 4,
 "nbformat_minor": 0
}
