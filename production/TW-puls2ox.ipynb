{
 "cells": [
  {
   "cell_type": "markdown",
   "metadata": {},
   "source": [
    "# Исследование бегущей волны"
   ]
  },
  {
   "cell_type": "markdown",
   "metadata": {},
   "source": [
    "Была посчитана бегущая волна при Re=2500, Xmax=5, методом отслеживания границы. Скорость сноcа решения оказывается равна $ c_f \\approx 0.78U$, $U -$ максимальная скорость в течении Пуазейля. Чтобы показать, насколько решение близко к бегущей волне, я посчитал энергетическую норму от производной скорости по времени. В сопутствующей системе отсчета решение стационарно, и производная близка к нулю. Для сравнения посчитано значение производной скорости в системе отсчета, движущейся со скоростью $0.5U$. \n",
    "\n",
    "$$\n",
    "\\frac{\\left| \\frac{\\partial \\vec v}{\\partial t} + c_f\\frac{\\partial \\vec v}{\\partial x} \\right| }\n",
    "{\\left|  \\frac{\\partial \\vec v}{\\partial t} + 0.5\\frac{\\partial \\vec v}{\\partial x} \\right|} \\approx 0.005\n",
    "$$"
   ]
  },
  {
   "cell_type": "markdown",
   "metadata": {},
   "source": [
    "# Средние вдоль трубы\n",
    "\n",
    "Для сравнения с решением на сепаратрисе и для общего предсталвения о струетуре этой бегущей волны здесь приведен некоторе величины, осредненые вдоль трубы. Это \n",
    "1. продольная скорость $U = \\overline{u}^x$,\n",
    "2. Амплитуда пульсаций $(\\overline{u'u'}^x)^{1/2}$\n",
    "3. Продольная завихренность $\\Omega_x = \\overline{\\omega_x}^x$\n",
    "4. Движение в поперечной плоскости $(V,W) = \\overline{(v,w)}^x$\n",
    "\n",
    "<img src=\"tw-means.png\">"
   ]
  },
  {
   "cell_type": "markdown",
   "metadata": {},
   "source": [
    "Картинки очень похожи на соответствующие для решения на сепаратрисе. "
   ]
  },
  {
   "cell_type": "markdown",
   "metadata": {},
   "source": [
    "## Вклад в образование o_x от пульсационной составляющей движения"
   ]
  },
  {
   "cell_type": "markdown",
   "metadata": {},
   "source": [
    "Уравнение для ox\n",
    "\n",
    "$$\n",
    "\\frac{\\partial \\omega_x}{\\partial t} =  - (\\vec v, \\nabla) \\omega_x + (\\vec \\omega , \\nabla) u + \\Delta \\omega_x\n",
    "$$\n",
    "\n",
    "Для краткости обозначим \n",
    "\n",
    "$$\n",
    "d_x(\\vec v, \\vec \\omega) = - (\\vec v, \\nabla) \\omega_x + (\\vec \\omega , \\nabla) u \n",
    "$$\n",
    "\n",
    "Тогда уравнение преобретет новый вид\n",
    "\n",
    "\n",
    "$$\n",
    "\\frac{\\partial \\omega_x}{\\partial t} =  d_x(\\vec v, \\vec \\omega) + \\Delta \\omega_x\n",
    "$$\n",
    "\n",
    "После осреднения по x получим\n",
    "\n",
    "\n",
    "$$\n",
    "\\frac{\\partial \\Omega_x}{\\partial t} =  d_x(\\vec V, \\vec \\Omega) + \\overline{d_x(\\vec v', \\vec \\omega') \\ }^x +  \\Delta \\Omega_x\n",
    "$$\n",
    "\n",
    "Можно отдельно посчитать вклад от пульсаций и вклад от среднего течения."
   ]
  },
  {
   "cell_type": "markdown",
   "metadata": {},
   "source": [
    "Здесь $(U,V,W) = \\vec V = \\overline{\\vec v \\ }^x $ - среднее течение, $(\\Omega_x, \\Omega_r, \\Omega_\\theta) = \\vec \\Omega = \\overline{\\vec \\omega \\ }^x$ - средняя завихренность. "
   ]
  },
  {
   "cell_type": "markdown",
   "metadata": {},
   "source": [
    "<img src=\"tw-mean-puls-d-toox.png\">\n",
    "\n",
    "Первая картинка - вклад в образование средней продольной завихрености от среднего течения\n",
    "\n",
    "$$ \n",
    "d_x(\\vec V, \\vec \\Omega) = -(\\vec V, \\nabla) \\Omega_x + (\\vec \\Omega, \\nabla) U\n",
    "$$\n",
    "\n",
    "Вторая картинка - вклад в образование Ox от пульсационной составляющей движения,в том же масшабе, что и на преидущей картинке. \n",
    "\n",
    "$$ \n",
    "\\overline{d_x(\\vec v', \\vec \\omega')}^x = \\overline{-(\\vec v', \\nabla) \\omega_x' + (\\vec \\omega', \\nabla) u'\\ }^x\n",
    "$$\n",
    "\n",
    "Третья картинка - снова вклад в O_x от пульсаций, но увеличиный в 10 раз."
   ]
  },
  {
   "cell_type": "markdown",
   "metadata": {},
   "source": [
    "## Есть вероятность, что эти картинки неверны!\n",
    "\n",
    "Уравнение для завихрености выглядит следующим образом\n",
    "\n",
    "$$\n",
    "\\frac{\\partial \\omega_x}{\\partial t} = c_f\\frac{\\partial \\omega_x}{\\partial x} - (\\vec v, \\nabla) \\omega_x + (\\vec \\omega , \\nabla) u + \\Delta \\omega_x\n",
    "$$\n",
    "\n",
    "И в сопутствующей системе отсчета производная скорости в бешущей волне равна 0.\n",
    "\n",
    "Тогда должны выполняться контрольные суммы, такие например как\n",
    "$$\n",
    "d_x(\\vec v, \\vec \\omega) = - (\\vec v, \\nabla) \\omega_x + (\\vec \\omega , \\nabla) u = - \\frac{1}{Re} \\Delta \\omega_x - c_f \\frac{\\partial \\omega_x}{\\partial x}\n",
    "$$\n",
    "\n",
    "Или\n",
    "\n",
    "$$\n",
    "\\overline{d_x(\\vec v, \\vec \\omega)}^x = d_x(\\vec V, \\vec \\Omega) + \\overline{d_x(\\vec v', \\vec \\omega')}^x = - \\frac{1}{Re} \\Delta \\Omega_x\n",
    "$$\n",
    "\n",
    "но у меня не получается этого добиться.. "
   ]
  }
 ],
 "metadata": {
  "kernelspec": {
   "display_name": "Python 2",
   "language": "python",
   "name": "python2"
  },
  "language_info": {
   "codemirror_mode": {
    "name": "ipython",
    "version": 2
   },
   "file_extension": ".py",
   "mimetype": "text/x-python",
   "name": "python",
   "nbconvert_exporter": "python",
   "pygments_lexer": "ipython2",
   "version": "2.7.10"
  }
 },
 "nbformat": 4,
 "nbformat_minor": 0
}
