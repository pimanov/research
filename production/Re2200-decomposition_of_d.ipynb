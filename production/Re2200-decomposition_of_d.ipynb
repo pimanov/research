{
 "cells": [
  {
   "cell_type": "markdown",
   "metadata": {},
   "source": [
    "# d от стационарной и пульсационной составляющих течения\n",
    "\n",
    "Что такое d - описано в файле [math](math.ipynb). Коротко говоря, это слагаемое в уравнении на продольную компоненту завихрености, которое отвечает за ее формирование. d вычисляется по формуле\n",
    "\n",
    "$$\n",
    "d_2 = -\\frac{\\partial w}{\\partial x} \\frac{\\partial u}{\\partial r}\n",
    "$$\n",
    "\n",
    "$$\n",
    "d_3 = \\frac{\\partial v}{\\partial x} \\frac{\\partial u}{r \\partial \\theta} \n",
    "$$\n",
    "\n",
    "$$ \n",
    "d = d_2 + d_3\n",
    "$$\n"
   ]
  },
  {
   "cell_type": "markdown",
   "metadata": {},
   "source": [
    "В предыдущем файле [Re2200-time_averaged_d](Re2200-time_averaged_d.ipynb) слагаемое d уже было посчитано по полному полю скорости $\\vec v$. Но это поле скорости можно разложить на стационарную и пульсационную составляющие $\\vec v = \\vec V + \\vec v'$. Соответственно и слагаемео d, осредненое по времени, можно представвить в виде суммы двух, произведенных каждым из $\\vec v$. \n",
    "\n",
    "$$\n",
    "\\overline{d(\\vec v)}^t = d(\\vec V) + \\overline{d(\\vec v')}^t\n",
    "$$\n",
    "\n",
    "Здесь исследуется каждое из слагаемых в отдеьности. "
   ]
  },
  {
   "cell_type": "markdown",
   "metadata": {},
   "source": [
    "## Графики распределения d вдоль трубы"
   ]
  },
  {
   "cell_type": "markdown",
   "metadata": {},
   "source": [
    "Следующие два графика построены в точности так же, как и в предидущем файле."
   ]
  },
  {
   "cell_type": "markdown",
   "metadata": {},
   "source": [
    "<img src=\"dm.png\" align=\"left\"> \n",
    "\n",
    "На верхнем графике приведено распределение вдоль трубы слагаемых d2, d3, d2+d3 для стационарной составляющей течения\n",
    "\n",
    "$$\n",
    "d_2 = - \\frac{\\partial W}{\\partial x} \\frac{\\partial U}{\\partial r}, \n",
    "$$\n",
    "\n",
    "$$\n",
    "d_3 = \\frac{\\partial V}{\\partial x} \\frac{\\partial U}{r \\partial \\theta} \n",
    "$$\n",
    "\n",
    "Прерывистая линия - продольная компонента завихренности ox. \n",
    "\n",
    "Интегрирование поперек трубы проводилось следующим образом\n",
    "\n",
    "$$\n",
    "a(x_0) = \\left( \\frac{1}{S} \\int_{x=x_0} a^2 ds \\right)^{1/2}\n",
    "$$\n",
    "\n",
    "Вертикальные черточки - сечения, которые далее будут рассмотрены подробнее.\n",
    "\n",
    "На нижнем графике для того, чтобы ориентироваться, приведены:   \n",
    "-streaks - отклонение от осесимметричного течения  \n",
    "-pulsations - амплитуда пульсаций   \n",
    "-ox - продольная компоненты завихренности. Та же кривая, что и на предыдущем графике.   \n",
    "\n",
    "Интегрирование по сечению проводилось тем же способом. "
   ]
  },
  {
   "cell_type": "markdown",
   "metadata": {},
   "source": [
    "Среднее течение дает большую часть завихрености. Грфик иммет нетривиальную форму, что говорито о нетривиальной внутренней структуре вклада от d. Области, где существует завихренность и где иммет значение вклад от среднего течения практически совпадают. "
   ]
  },
  {
   "cell_type": "markdown",
   "metadata": {
    "collapsed": false
   },
   "source": [
    "<img src=\"d1.png\" align=\"left\"> \n",
    "\n",
    "На верхнем графике приведено распределение вдоль трубы слагаемых d2, d3, d2+d3, для пульсаций, осредненные по времени\n",
    "\n",
    "$$\n",
    "d_2 = \\overline{ - \\frac{\\partial w'}{\\partial x} \\frac{\\partial u'}{\\partial r}}^t, \n",
    "$$\n",
    "\n",
    "$$\n",
    "d_3 = \\overline{ \\frac{\\partial v'}{\\partial x} \\frac{\\partial u'}{r \\partial \\theta} }^t\n",
    "$$\n",
    "\n",
    "Все остальное так же.\n"
   ]
  },
  {
   "cell_type": "markdown",
   "metadata": {},
   "source": [
    "Вклад от пульсаций присутствует конечно только в той области, где присутствуют сами пульсации. Кривая имеет значительно более простую форму, но тем не менее не тривиальную. "
   ]
  },
  {
   "cell_type": "markdown",
   "metadata": {},
   "source": [
    "<img src=\"ds.png\" align=\"left\"> Здесь на одном графике приведены распределения вдоль трубы от:\n",
    "\n",
    "**d(V+v')** - сумарный вклад от пульсаций и среднего течения, осредненый по времени. Кривая из предыдущего файла. \n",
    "\n",
    "**d(V)** - вклад от среднего течения, кривая с первого графика\n",
    "\n",
    "**d(v')** - вклад от пульсаций, кривая со второго графика\n",
    "\n",
    "Все остальные обозначнеия и способ интегрирования, как и на предыдущих графиках. "
   ]
  },
  {
   "cell_type": "markdown",
   "metadata": {
    "collapsed": true
   },
   "source": [
    "## Графики распределения ox\\*d вдоль трубы"
   ]
  },
  {
   "cell_type": "markdown",
   "metadata": {},
   "source": [
    "Как и в предыдущий раз, на следующих двух графиках приведен вклад в энергию "
   ]
  },
  {
   "cell_type": "markdown",
   "metadata": {},
   "source": [
    "<img src=\"odm.png\" align=\"left\">\n",
    "\n"
   ]
  },
  {
   "cell_type": "markdown",
   "metadata": {},
   "source": [
    "<img src=\"od1.png\" align=\"left\">"
   ]
  },
  {
   "cell_type": "markdown",
   "metadata": {},
   "source": [
    "<img src=\"ods.png\" align=\"left\">"
   ]
  },
  {
   "cell_type": "markdown",
   "metadata": {},
   "source": [
    "## Графики"
   ]
  },
  {
   "cell_type": "markdown",
   "metadata": {},
   "source": [
    "<img src=\"mapm.png\" align=\"left\">"
   ]
  },
  {
   "cell_type": "markdown",
   "metadata": {},
   "source": [
    "<img src=\"map1.png\" align=\"left\">"
   ]
  },
  {
   "cell_type": "markdown",
   "metadata": {},
   "source": [
    "<img src=\"maps.png\" align=\"left\">"
   ]
  },
  {
   "cell_type": "code",
   "execution_count": null,
   "metadata": {
    "collapsed": true
   },
   "outputs": [],
   "source": []
  }
 ],
 "metadata": {
  "kernelspec": {
   "display_name": "Python 2",
   "language": "python",
   "name": "python2"
  },
  "language_info": {
   "codemirror_mode": {
    "name": "ipython",
    "version": 2
   },
   "file_extension": ".py",
   "mimetype": "text/x-python",
   "name": "python",
   "nbconvert_exporter": "python",
   "pygments_lexer": "ipython2",
   "version": "2.7.10"
  }
 },
 "nbformat": 4,
 "nbformat_minor": 0
}
