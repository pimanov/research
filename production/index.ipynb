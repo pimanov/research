{
 "cells": [
  {
   "cell_type": "markdown",
   "metadata": {},
   "source": [
    "# Оглавление"
   ]
  },
  {
   "cell_type": "markdown",
   "metadata": {},
   "source": [
    "1. [math](math.ipynb) - Преобразование уравнений на продольную компоненту завихрености $ox$, необходимые далее.\n",
    "    1. [note1](note1.ipynb) - Замечнеи 1, \n",
    "    \n",
    "2. Результаты для решения на сепаратрисе, найденого при $Re=2200$\n",
    "    2. [Re2200-time_averaged_d](Re2200-time_averaged_d.ipynb) - вклад в $ox$ от полного поля скорости $v$, осредненный по времени.\n",
    "    3. [Re2200-decomposition_of_d](Re2200-decomposition_of_d.ipynb) - вклад в $ox$ отдельно от стационарной и пульсационной составляющих течения. "
   ]
  }
 ],
 "metadata": {
  "kernelspec": {
   "display_name": "Python 2",
   "language": "python",
   "name": "python2"
  },
  "language_info": {
   "codemirror_mode": {
    "name": "ipython",
    "version": 2
   },
   "file_extension": ".py",
   "mimetype": "text/x-python",
   "name": "python",
   "nbconvert_exporter": "python",
   "pygments_lexer": "ipython2",
   "version": "2.7.10"
  }
 },
 "nbformat": 4,
 "nbformat_minor": 0
}
