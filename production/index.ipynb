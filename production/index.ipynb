{
 "cells": [
  {
   "cell_type": "markdown",
   "metadata": {},
   "source": [
    "# Оглавление [index](index.ipynb)"
   ]
  },
  {
   "cell_type": "markdown",
   "metadata": {},
   "source": [
    "## Механизм возникновения продольной завихренности\n",
    "\n",
    "1. [math](ox/math.ipynb) - Преобразование уравнений на продольную компоненту завихрености $ox$, необходимые далее.    \n",
    "    \n",
    "2. Результаты для решения на сепаратрисе, найденого при $Re=2200$\n",
    "    1. Вклад в $ox$ от полного поля скорости $v$, осредненный по времени [Re2200-time_averaged_d](ox/edge2200/Re2200-time_averaged_d.ipynb)\n",
    "    2. Вклад в $ox$ отдельно от стационарной и пульсационной составляющих течения [Re2200-decomposition_of_d](ox/edge2200/Re2200-decomposition_of_d.ipynb)\n",
    "    3. Вклад в $\\Omega_x$ через нелинейные слагаемые (еще раз) [Re2200-puls_to_ox](ox/edge2200/Re2200-puls_to_ox.ipynb)\n",
    "    4. Вклад в энергию $\\Omega_x$, картинки для презентации [edge-nl_analiz](ox/edge2200/nl_part/edge-nl_analiz.ipynb)\n",
    "    \n",
    "3. Результаты для бегущей волны $Re=2500$\n",
    "    1. Вклад пульсаций в ox [TW-puls_to_ox-success](ox/tw2500/TW-puls_to_ox-success.ipynb)\n",
    "    2. Вклад пульсаций в ox. Продолжение [TW-puls_to_ox-continuation](ox/tw2500/TW-puls_to_ox-continuation.ipynb)\n",
    "    3. Механизм образования стационарных продольных вихрей [TW-nonlin_ox_gen_mechanism](ox/tw2500/TW-nonlin_ox_gen_mechanism.ipynb)"
   ]
  },
  {
   "cell_type": "markdown",
   "metadata": {},
   "source": [
    "## Поиск новых решений методом Ньютона-Крылова"
   ]
  },
  {
   "cell_type": "markdown",
   "metadata": {},
   "source": [
    "1. Изменение периодичности по углу nsym\n",
    "    1. Первая попытка увеличить nsym на верхней ветви [change_nsym](nk/change_nsym/change_nsym.ipynb)\n",
    "    2. Увеличение nsym на верхней ветви. Продолжение. [change_ns_2](nk/change_nsym/change_ns_2.ipynb)\n",
    "    \n",
    "2. Новая бегущая волна, расположенная внутри турбулнеиного аттрактора.\n",
    "    1. Метод получения и общее описание [newTW-Re2200](nk/tw2200new/newTW-Re2200.ipynb)\n",
    "    2. Механизм формирования OX в этом случае [newTW-ox_gen_mechanism](ox/tw2200new/newTW-ox_gen_mechanism.ipynb)"
   ]
  }
 ],
 "metadata": {
  "kernelspec": {
   "display_name": "Python 2",
   "language": "python",
   "name": "python2"
  },
  "language_info": {
   "codemirror_mode": {
    "name": "ipython",
    "version": 2
   },
   "file_extension": ".py",
   "mimetype": "text/x-python",
   "name": "python",
   "nbconvert_exporter": "python",
   "pygments_lexer": "ipython2",
   "version": "2.7.10"
  }
 },
 "nbformat": 4,
 "nbformat_minor": 0
}
