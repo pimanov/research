{
 "cells": [
  {
   "cell_type": "markdown",
   "metadata": {},
   "source": [
    "# Оглавление [index](index.ipynb)"
   ]
  },
  {
   "cell_type": "markdown",
   "metadata": {},
   "source": [
    "1. [math](math.ipynb) - Преобразование уравнений на продольную компоненту завихрености $ox$, необходимые далее.\n",
    "    \n",
    "    \n",
    "2. Результаты для решения на сепаратрисе, найденого при $Re=2200$\n",
    "    1. Вклад в $ox$ от полного поля скорости $v$, осредненный по времени [Re2200-time_averaged_d](Re2200-time_averaged_d.ipynb)\n",
    "    2. Вклад в $ox$ отдельно от стационарной и пульсационной составляющих течения [Re2200-decomposition_of_d](Re2200-decomposition_of_d.ipynb)\n",
    "    3. Вклад в $\\Omega_x$ через нелинейное слагаемое (еще раз) [Re2200-puls_to_ox](http://nbviewer.jupyter.org/github/pimanov/research/blob/master/production/Re2200-puls_to_ox.ipynb)\n",
    "    \n",
    "3. Результаты для бегущей волны $Re=2500$\n",
    "    1. Вклад пульсаций в ox [TW-puls_to_ox-success](TW-puls_to_ox-success.ipynb)\n",
    "    2. Вклад пульсаций в ox. Продолжение [TW-puls_to_ox-continuation](TW-puls_to_ox-continuation.ipynb)\n",
    "    3. Механизм нелинейного взаимодействия пульсаций [TW-nonlin_ox_gen_mechanism](TW-nonlin_ox_gen_mechanism.ipynb)"
   ]
  }
 ],
 "metadata": {
  "kernelspec": {
   "display_name": "Python 2",
   "language": "python",
   "name": "python2"
  },
  "language_info": {
   "codemirror_mode": {
    "name": "ipython",
    "version": 2
   },
   "file_extension": ".py",
   "mimetype": "text/x-python",
   "name": "python",
   "nbconvert_exporter": "python",
   "pygments_lexer": "ipython2",
   "version": "2.7.10"
  }
 },
 "nbformat": 4,
 "nbformat_minor": 0
}
