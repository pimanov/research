{
 "cells": [
  {
   "cell_type": "markdown",
   "metadata": {},
   "source": [
    "# Оглавление [index](index.ipynb)"
   ]
  },
  {
   "cell_type": "markdown",
   "metadata": {},
   "source": [
    "## Механизм поддержания вторичных течений"
   ]
  },
  {
   "cell_type": "markdown",
   "metadata": {},
   "source": [
    "1. Предварительные результаты исследования бегущих волн в плосокм канале \n",
    "[streaks_gen_mech](mechanism/streaks_gen_mech.ipynb)"
   ]
  },
  {
   "cell_type": "markdown",
   "metadata": {},
   "source": [
    "## Механизм возникновения продольной завихренности\n",
    "\n",
    "1. [math](ox/math.ipynb) - Преобразование уравнений на продольную компоненту завихрености $ox$, необходимые далее.    \n",
    "    \n",
    "2. Результаты для решения на сепаратрисе, найденого при $Re=2200$\n",
    "    1. Вклад в $ox$ от полного поля скорости $v$, осредненный по времени [Re2200-time_averaged_d](ox/edge2200/Re2200-time_averaged_d.ipynb)\n",
    "    2. Вклад в $ox$ отдельно от стационарной и пульсационной составляющих течения [Re2200-decomposition_of_d](ox/edge2200/Re2200-decomposition_of_d.ipynb)\n",
    "    3. Вклад в $\\Omega_x$ через нелинейные слагаемые (еще раз) [Re2200-puls_to_ox](ox/edge2200/Re2200-puls_to_ox.ipynb)\n",
    "    4. Вклад в энергию $\\Omega_x$, картинки для презентации [edge-nl_analiz](ox/edge2200/nl_part/edge-nl_analiz.ipynb)\n",
    "    \n",
    "3. Результаты для бегущей волны $Re=2500$\n",
    "    1. Вклад пульсаций в ox [TW-puls_to_ox-success](ox/tw2500/TW-puls_to_ox-success.ipynb)\n",
    "    2. Вклад пульсаций в ox. Продолжение [TW-puls_to_ox-continuation](ox/tw2500/TW-puls_to_ox-continuation.ipynb)\n",
    "    3. Механизм образования стационарных продольных вихрей [TW-nonlin_ox_gen_mechanism](ox/tw2500/TW-nonlin_ox_gen_mechanism.ipynb)"
   ]
  },
  {
   "cell_type": "markdown",
   "metadata": {},
   "source": [
    "## Поиск новых решений методом Ньютона-Крылова"
   ]
  },
  {
   "cell_type": "markdown",
   "metadata": {},
   "source": [
    "1. Изменение периодичности по углу nsym\n",
    "    1. Первая попытка увеличить nsym на верхней ветви [change_nsym](nk/change_nsym/change_nsym.ipynb)\n",
    "    2. Увеличение nsym на верхней ветви. Продолжение. [change_ns_2](nk/change_nsym/change_ns_2.ipynb)\n",
    "    3. Увеличение nsym на верхней ветви. Продолжение 3. [change_ns_3](nk/change_nsym/change_ns_3.ipynb)\n",
    "2. Новая бегущая волна, расположенная внутри турбулнеиного аттрактора.\n",
    "    1. Метод получения и общее описание [newTW-Re2200](nk/tw2200new/newTW-Re2200.ipynb)\n",
    "    2. Механизм формирования OX в этом случае [newTW-ox_gen_mechanism](ox/tw2200new/newTW-ox_gen_mechanism.ipynb)"
   ]
  },
  {
   "cell_type": "markdown",
   "metadata": {},
   "source": [
    "## Течение в плоском канале"
   ]
  },
  {
   "cell_type": "markdown",
   "metadata": {},
   "source": [
    "1. Попытка перевести решение из круглой трубы в плоский канал и решение на сепаратрисе в плоском канале. [duct_first](duct/duct_first.ipynb)\n",
    "2. Вторая попытка. Исправлена ошибка в программе. Удачная. [duct_second](duct/duct_second.ipynb)\n",
    "3. Новая бегущая волна в канале. [duct_new_tw](duct/new_tw/duct_new_tw.ipynb)\n",
    "    1. Зависиомть от Re, Xmax, Zmax. [new_duct_tw_var](duct/new_tw/new_duct_tw_var.ipynb)\n",
    "    2. Анализ поля скорости бегущей волны. [duct_tw_analiz](duct/new_tw/duct_tw_analiz.ipynb)\n",
    "    3. Исследование линейной устойчивости полосы замедления. [newDuctTW_lin](duct/new_tw/lin/newDuctTW_lin.ipynb)\n",
    "    4. Набросок механизма самоподдержания бегущей волны. [ductTW_mechanism](duct/new_tw/mechanism/ductTW_mechanism.ipynb)\n",
    "    5. Исследование нижней ветви \"нового\" решения в канале. [duct_down_tw](duct/new_tw_down/duct_down_tw.ipynb)"
   ]
  },
  {
   "cell_type": "markdown",
   "metadata": {
    "collapsed": true
   },
   "source": [
    "## Модельный порыв на верхней ветви решения. \n",
    "1. [Общее описание решения](local_edge_up/intro.ipynb)\n",
    "2. [Описание среднего поля скорости решения](local_edge_up/means.ipynb)\n",
    "3. [Линейная устойчивость среднего течения](local_edge_up/lin.ipynb)\n",
    "4. [Два механизма возникновения производной вдоль потока](local_edge_up/math.ipynb)\n",
    "5. [Линейная устойчивость среднего течения исходного решения, принадлежащего сепаратрисе](local_edge_up/down-lin.ipynb)\n",
    "6. [Механизм генерации продольных вихрей на верхней ветви решения](local_edge_up/ox_gen.ipynb)"
   ]
  },
  {
   "cell_type": "markdown",
   "metadata": {},
   "source": [
    "## Исследование сеточной сходимости"
   ]
  },
  {
   "cell_type": "markdown",
   "metadata": {},
   "source": [
    "1. [Локализованное решение в круглой трубе](mesh_conv/mesh_conv.ipynb)\n",
    "2. [Линейная устойчивость для локализованных решений в круглой трубе](mesh_conv/linear.ipynb)"
   ]
  }
 ],
 "metadata": {
  "anaconda-cloud": {},
  "kernelspec": {
   "display_name": "Python [conda root]",
   "language": "python",
   "name": "conda-root-py"
  },
  "language_info": {
   "codemirror_mode": {
    "name": "ipython",
    "version": 2
   },
   "file_extension": ".py",
   "mimetype": "text/x-python",
   "name": "python",
   "nbconvert_exporter": "python",
   "pygments_lexer": "ipython2",
   "version": "2.7.13"
  }
 },
 "nbformat": 4,
 "nbformat_minor": 0
}
