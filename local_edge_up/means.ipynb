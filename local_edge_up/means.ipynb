{
 "cells": [
  {
   "cell_type": "markdown",
   "metadata": {},
   "source": [
    "# Модельный порыв на верхней ветви решения. Осреднение по времени. "
   ]
  },
  {
   "cell_type": "markdown",
   "metadata": {},
   "source": [
    "Осредним решение с верхней ветви по времени в системе отсчета, связанной с порывом. Пусть $\\mathbf{V} = (U, V, W)$ - средняя составляющая движения, $\\mathbf{v'} = (u', v', w')$ -- пульсационная. Дополнительно выделим осесимметричную часть продольного движения $U_{2D}$ и трехмерную её составляющую $U_{3D} = U - U_{2D}$. Трехмерную составляющую среднего движения можно связать с полосами повышенной и пониженной скорости. "
   ]
  },
  {
   "cell_type": "markdown",
   "metadata": {
    "collapsed": false
   },
   "source": [
    "На графиках ниже приведено распределение вдоль трубы амплитуды различных компонент движения. Левый график соответствует верхней ветви, правый -- нижней. Амплитуда всех компонент движения увеличилась примерно вдвое (амплитуда поперечного движения даже больше), но качественно ничего не изменилось. Наибольшую амплитуду имеет $U_{2D}$, затем идет $U_{3D}$, затем $\\mathbf v'$, и наименьшую амплитуду имеют $(V,W)$. "
   ]
  },
  {
   "cell_type": "markdown",
   "metadata": {
    "collapsed": false
   },
   "source": [
    "<img src=\"up-comp-amp.png\" style=\"float: left\"> <img src=\"low-comp-amp.png\" style=\"float: left\">"
   ]
  },
  {
   "cell_type": "markdown",
   "metadata": {
    "collapsed": true
   },
   "source": [
    "Вертикальные черные черточки на графиках выше отмечают сечения, изображенные ниже. На следующем рисунке приведена средняя скорость на верхней ветви. Полос пониженной скорости становится гораздо более выраженной, кроме того в сечении x = 96.7 можно видеть, что скорость в полосе ускорения оказывается даже выше, чем на оси трубы. "
   ]
  },
  {
   "cell_type": "markdown",
   "metadata": {},
   "source": [
    "<img src=\"up-umean.png\">"
   ]
  },
  {
   "cell_type": "markdown",
   "metadata": {},
   "source": [
    "На следующем рисунке продольная завихренность $\\Omega_x$ решения на верхней ветви. Там, где продольные вихри имеют наибольшую амплитуду (х = 93.8), они расположены ближе к боковым стенкам расчетной области в угловом направлении. Выше по течению вихри перемещаются ближе к центру расчетной области, возможно, в следствии конвекции, если их выносит туда полоса замедления. "
   ]
  },
  {
   "cell_type": "markdown",
   "metadata": {},
   "source": [
    "<img src=\"up-oxmean.png\">"
   ]
  },
  {
   "cell_type": "markdown",
   "metadata": {},
   "source": [
    "На следующем рисунке изображена амплитуда пульсаций в решении на верхней ветви. Если раньше пульсации в каждом сечении имели только два локальных максимума, расположенных симметрично относительно полосы замедления, то теперь их четыре (в сечениях, начиная с x = 90.8 до x = 94.5). "
   ]
  },
  {
   "cell_type": "markdown",
   "metadata": {},
   "source": [
    "<img src=\"up-puls.png\">"
   ]
  },
  {
   "cell_type": "markdown",
   "metadata": {},
   "source": [
    "Картинки ниже смотреть не обязательно, но можно, если возникнет такое желание"
   ]
  },
  {
   "cell_type": "markdown",
   "metadata": {
    "collapsed": true
   },
   "source": [
    "## Нижняя ветвь"
   ]
  },
  {
   "cell_type": "markdown",
   "metadata": {},
   "source": [
    "Может быть будет интересно сравнить, как выглядели приведенные выше величины в исходном решении. Для этого ниже приведены аналогичные рисунку для него. "
   ]
  },
  {
   "cell_type": "markdown",
   "metadata": {},
   "source": [
    "<img src=\"low-umean.png\">"
   ]
  },
  {
   "cell_type": "markdown",
   "metadata": {},
   "source": [
    "<img src=\"low-oxmean.png\">"
   ]
  },
  {
   "cell_type": "markdown",
   "metadata": {},
   "source": [
    "<img src=\"low-puls.png\">"
   ]
  },
  {
   "cell_type": "markdown",
   "metadata": {},
   "source": [
    "## Все вместе"
   ]
  },
  {
   "cell_type": "markdown",
   "metadata": {},
   "source": [
    "Еще пара картинок, где изображены все те же рисунки, что и выше, но в другом порядке. Первые три колонки соответствуют решению с верхней ветви, вторые - решению с нижней. В каждой новой строке новое сечение."
   ]
  },
  {
   "cell_type": "markdown",
   "metadata": {},
   "source": [
    "\n",
    "<img src=\"up-means.png\" style=\"float: left\" width=600px>\n",
    "<img src=\"low-means.png\" style=\"float: left\"  width=600px>"
   ]
  },
  {
   "cell_type": "code",
   "execution_count": null,
   "metadata": {
    "collapsed": true
   },
   "outputs": [],
   "source": []
  }
 ],
 "metadata": {
  "anaconda-cloud": {},
  "kernelspec": {
   "display_name": "Python [conda root]",
   "language": "python",
   "name": "conda-root-py"
  },
  "language_info": {
   "codemirror_mode": {
    "name": "ipython",
    "version": 2
   },
   "file_extension": ".py",
   "mimetype": "text/x-python",
   "name": "python",
   "nbconvert_exporter": "python",
   "pygments_lexer": "ipython2",
   "version": "2.7.13"
  }
 },
 "nbformat": 4,
 "nbformat_minor": 2
}
