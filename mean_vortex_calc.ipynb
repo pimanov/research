{
 "cells": [
  {
   "cell_type": "code",
   "execution_count": 1,
   "metadata": {
    "collapsed": true
   },
   "outputs": [],
   "source": [
    "import tools\n",
    "import pipeSym_func as sym\n",
    "import numpy as np\n",
    "import matplotlib.pyplot as plt\n",
    "%matplotlib inline\n",
    "\n",
    "import pipeSym_func as sys\n",
    "import math"
   ]
  },
  {
   "cell_type": "code",
   "execution_count": 2,
   "metadata": {
    "collapsed": true
   },
   "outputs": [],
   "source": [
    "res = tools.get_scp(\"../orig-edge/Re2200-mean.scp\")"
   ]
  },
  {
   "cell_type": "code",
   "execution_count": 3,
   "metadata": {
    "collapsed": false
   },
   "outputs": [],
   "source": [
    "t, dt, cf, Re, Xmax, epsr, lx, Jm, lt, nsym, velm = res"
   ]
  },
  {
   "cell_type": "code",
   "execution_count": 5,
   "metadata": {
    "collapsed": false
   },
   "outputs": [
    {
     "name": "stdout",
     "output_type": "stream",
     "text": [
      "59.6124554189 0.298062277094 0.688934885581 2200.0 120.0 0.25 10 40 5 2 0.99988307017\n"
     ]
    }
   ],
   "source": [
    "print t, dt, cf, Re, Xmax, epsr, lx, Jm, lt, nsym, velm.max()"
   ]
  },
  {
   "cell_type": "code",
   "execution_count": 10,
   "metadata": {
    "collapsed": false
   },
   "outputs": [],
   "source": [
    "sym.init(Xmax, epsr, nsym, lx, Jm, lt, Re=Re)"
   ]
  },
  {
   "cell_type": "code",
   "execution_count": 11,
   "metadata": {
    "collapsed": false
   },
   "outputs": [
    {
     "name": "stdout",
     "output_type": "stream",
     "text": [
      "Xmax=120.000000, epsr=0.250000, nsym=2\n",
      "Im=1024, Jm=40, Km=32\n",
      "hx=0.117188, ht=0.049087, real_nsym=2.000000\n",
      "Re=2200.000000\n"
     ]
    }
   ],
   "source": [
    "sym.look()"
   ]
  },
  {
   "cell_type": "code",
   "execution_count": 12,
   "metadata": {
    "collapsed": false
   },
   "outputs": [],
   "source": [
    "om = sym.new_z_vfield()\n",
    "velt = sym.new_z_vfield()\n",
    "res = sym.rp(t, velm, velt, om)"
   ]
  },
  {
   "cell_type": "code",
   "execution_count": 18,
   "metadata": {
    "collapsed": false
   },
   "outputs": [],
   "source": [
    "sym.write_cp(\"Re2200_om_mean.scp\", om, t, dt, cf, Re)"
   ]
  },
  {
   "cell_type": "code",
   "execution_count": 19,
   "metadata": {
    "collapsed": false
   },
   "outputs": [
    {
     "name": "stdout",
     "output_type": "stream",
     "text": [
      "com.py                    mean_vortex_calc.ipynb  Re1449_up_mean.scp\r\n",
      "com.pyc                   part_deform.ipynb       Re2200_om_mean.scp\r\n",
      "diform_video.dat          part_deform_mean.scp    sl2.sty\r\n",
      "formal_deform1_video.dat  part_deform_video.dat   text.ipynb\r\n",
      "formal_deform.dat         phis_deform.scp         tools.py\r\n",
      "formal_diform.ipynb       phis_diform.ipynb       tools.pyc\r\n",
      "formal_diform.scp         polar_plot.py           up1449.scp\r\n"
     ]
    }
   ],
   "source": [
    "ls"
   ]
  },
  {
   "cell_type": "code",
   "execution_count": null,
   "metadata": {
    "collapsed": true
   },
   "outputs": [],
   "source": []
  }
 ],
 "metadata": {
  "kernelspec": {
   "display_name": "Python 2",
   "language": "python",
   "name": "python2"
  },
  "language_info": {
   "codemirror_mode": {
    "name": "ipython",
    "version": 2
   },
   "file_extension": ".py",
   "mimetype": "text/x-python",
   "name": "python",
   "nbconvert_exporter": "python",
   "pygments_lexer": "ipython2",
   "version": "2.7.10"
  }
 },
 "nbformat": 4,
 "nbformat_minor": 0
}
