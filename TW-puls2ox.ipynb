{
 "cells": [
  {
   "cell_type": "code",
   "execution_count": 1,
   "metadata": {
    "collapsed": true
   },
   "outputs": [],
   "source": [
    "import pipe_pytools.polar_plot as pp\n",
    "import pipe_pytools.tools as tl\n",
    "import pipe_pytools.grid as gr"
   ]
  },
  {
   "cell_type": "code",
   "execution_count": 2,
   "metadata": {
    "collapsed": true
   },
   "outputs": [],
   "source": [
    "import numpy as np\n",
    "import matplotlib.pyplot as plt\n",
    "%matplotlib inline"
   ]
  },
  {
   "cell_type": "code",
   "execution_count": 26,
   "metadata": {
    "collapsed": false
   },
   "outputs": [],
   "source": [
    "res = tl.get_scp(\"tw-Re2500-Xmax5.scp\")"
   ]
  },
  {
   "cell_type": "code",
   "execution_count": 27,
   "metadata": {
    "collapsed": false
   },
   "outputs": [],
   "source": [
    "t,dt,cf,Re,Xmax,epsr,lx,Jm,lt,nsym,vel = res"
   ]
  },
  {
   "cell_type": "code",
   "execution_count": 53,
   "metadata": {
    "collapsed": false
   },
   "outputs": [
    {
     "data": {
      "text/plain": [
       "0.78"
      ]
     },
     "execution_count": 53,
     "metadata": {},
     "output_type": "execute_result"
    }
   ],
   "source": [
    "cf"
   ]
  },
  {
   "cell_type": "code",
   "execution_count": 5,
   "metadata": {
    "collapsed": true
   },
   "outputs": [],
   "source": [
    "x = gr.X(2**lx, Xmax)\n",
    "r = gr.R(Jm, epsr)\n",
    "th = gr.Th(2**lt, nsym)"
   ]
  },
  {
   "cell_type": "code",
   "execution_count": 17,
   "metadata": {
    "collapsed": false
   },
   "outputs": [],
   "source": [
    "import pipeSym_func as sym"
   ]
  },
  {
   "cell_type": "code",
   "execution_count": 18,
   "metadata": {
    "collapsed": false
   },
   "outputs": [],
   "source": [
    "Im = 2**lx\n",
    "Km = 2**lt\n",
    "yt1 = sym.wr.dimr.yt1\n",
    "yt = sym.wr.dimr.yt\n",
    "hx = sym.wr.dimx.hx\n",
    "ht = sym.wr.dimt.ht"
   ]
  },
  {
   "cell_type": "code",
   "execution_count": 19,
   "metadata": {
    "collapsed": true
   },
   "outputs": [],
   "source": [
    "sym.init(Xmax, epsr, nsym, lx, Jm, lt, Re=Re)"
   ]
  },
  {
   "cell_type": "code",
   "execution_count": 20,
   "metadata": {
    "collapsed": false
   },
   "outputs": [
    {
     "name": "stdout",
     "output_type": "stream",
     "text": [
      "Xmax=5.000000, epsr=0.250000, nsym=2\n",
      "Im=64, Jm=40, Km=32\n",
      "hx=0.078125, ht=0.049087, real_nsym=2.000000\n",
      "Re=2500.000000\n"
     ]
    }
   ],
   "source": [
    "sym.look()"
   ]
  },
  {
   "cell_type": "code",
   "execution_count": 28,
   "metadata": {
    "collapsed": true
   },
   "outputs": [],
   "source": [
    "velt = sym.new_z_vfield()\n",
    "om = sym.new_z_vfield()\n",
    "p = sym.new_z_pfield()\n",
    "\n",
    "res = sym.rp(t, vel, velt, om)\n",
    "res = sym.pres(velt, p, 0.0)"
   ]
  },
  {
   "cell_type": "code",
   "execution_count": 29,
   "metadata": {
    "collapsed": true
   },
   "outputs": [],
   "source": [
    "velt[:,:,:,0] = velt[:,:,:,-2]\n",
    "velt[:,:,:,-1] = velt[:,:,:,1]"
   ]
  },
  {
   "cell_type": "code",
   "execution_count": 30,
   "metadata": {
    "collapsed": false
   },
   "outputs": [],
   "source": [
    "velt1 = velt.copy()\n",
    "for i in range(1,Im+1):\n",
    "    velt1[:,:,:,i] += cf * (vel[:,:,:,i+1] - vel[:,:,:,i-1]) / (2 * hx)"
   ]
  },
  {
   "cell_type": "code",
   "execution_count": 31,
   "metadata": {
    "collapsed": false
   },
   "outputs": [
    {
     "data": {
      "text/plain": [
       "3.002945958377709e-05"
      ]
     },
     "execution_count": 31,
     "metadata": {},
     "output_type": "execute_result"
    }
   ],
   "source": [
    "sym.ffmean(velt1[0]**2 + velt1[1]**2 + velt1[2]**2)**0.5"
   ]
  },
  {
   "cell_type": "code",
   "execution_count": 32,
   "metadata": {
    "collapsed": false
   },
   "outputs": [],
   "source": [
    "cf1= 0.5"
   ]
  },
  {
   "cell_type": "code",
   "execution_count": 33,
   "metadata": {
    "collapsed": false
   },
   "outputs": [],
   "source": [
    "velt1 = velt.copy()\n",
    "for i in range(1,Im+1):\n",
    "    velt1[:,:,:,i] += cf1 * (vel[:,:,:,i+1] - vel[:,:,:,i-1]) / (2 * hx)"
   ]
  },
  {
   "cell_type": "code",
   "execution_count": 34,
   "metadata": {
    "collapsed": false
   },
   "outputs": [
    {
     "data": {
      "text/plain": [
       "0.005343219467339166"
      ]
     },
     "execution_count": 34,
     "metadata": {},
     "output_type": "execute_result"
    }
   ],
   "source": [
    "sym.ffmean(velt1[0]**2 + velt1[1]**2 + velt1[2]**2)**0.5"
   ]
  },
  {
   "cell_type": "code",
   "execution_count": null,
   "metadata": {
    "collapsed": false
   },
   "outputs": [],
   "source": [
    "Out[16] / Out[20]"
   ]
  },
  {
   "cell_type": "code",
   "execution_count": null,
   "metadata": {
    "collapsed": true
   },
   "outputs": [],
   "source": []
  },
  {
   "cell_type": "code",
   "execution_count": 35,
   "metadata": {
    "collapsed": true
   },
   "outputs": [],
   "source": [
    "vel[0,:,:,:] -= cf"
   ]
  },
  {
   "cell_type": "code",
   "execution_count": 36,
   "metadata": {
    "collapsed": true
   },
   "outputs": [],
   "source": [
    "VEL = sym.new_z_vfield()\n",
    "VEL[:,:,:,0] = vel[:,:,:,1:-1].mean(-1)\n",
    "for i in range(1,Im+2):\n",
    "    VEL[:,:,:,i] = VEL[:,:,:,0]"
   ]
  },
  {
   "cell_type": "code",
   "execution_count": 37,
   "metadata": {
    "collapsed": false
   },
   "outputs": [],
   "source": [
    "OM = sym.new_z_vfield()\n",
    "OM[:,:,:,0] = om[:,:,:,1:-1].mean(-1)\n",
    "for i in range(1,Im+2):\n",
    "    OM[:,:,:,i] = OM[:,:,:,0]"
   ]
  },
  {
   "cell_type": "code",
   "execution_count": 38,
   "metadata": {
    "collapsed": true
   },
   "outputs": [],
   "source": [
    "U,V,W = VEL\n",
    "OX,OR,OT = OM"
   ]
  },
  {
   "cell_type": "code",
   "execution_count": 39,
   "metadata": {
    "collapsed": false
   },
   "outputs": [],
   "source": [
    "u,v,w = vel\n",
    "ox,on,ot = om"
   ]
  },
  {
   "cell_type": "code",
   "execution_count": 40,
   "metadata": {
    "collapsed": true
   },
   "outputs": [],
   "source": [
    "vel1 = vel - VEL"
   ]
  },
  {
   "cell_type": "code",
   "execution_count": 41,
   "metadata": {
    "collapsed": true
   },
   "outputs": [],
   "source": [
    "puls = (vel1 ** 2 )[0,:,:,1:-1].mean(-1) **0.5"
   ]
  },
  {
   "cell_type": "code",
   "execution_count": 42,
   "metadata": {
    "collapsed": false
   },
   "outputs": [
    {
     "name": "stderr",
     "output_type": "stream",
     "text": [
      "/home/user/miniconda/lib/python2.7/site-packages/matplotlib/tri/triangulation.py:110: FutureWarning: comparison to `None` will result in an elementwise object comparison in the future.\n",
      "  self._neighbors)\n"
     ]
    },
    {
     "data": {
      "text/plain": [
       "<matplotlib.text.Text at 0x7f23d0ba77d0>"
      ]
     },
     "execution_count": 42,
     "metadata": {},
     "output_type": "execute_result"
    },
    {
     "name": "stderr",
     "output_type": "stream",
     "text": [
      "/home/user/miniconda/lib/python2.7/site-packages/matplotlib/collections.py:590: FutureWarning: elementwise comparison failed; returning scalar instead, but in the future will perform elementwise comparison\n",
      "  if self._edgecolors == str('face'):\n"
     ]
    },
    {
     "data": {
      "image/png": "[encoded data removed]",
      "text/plain": [
       "<matplotlib.figure.Figure at 0x7f23d0a8a950>"
      ]
     },
     "metadata": {},
     "output_type": "display_data"
    }
   ],
   "source": [
    "plt.figure(figsize=(16,4))\n",
    "\n",
    "plt.subplot(1,4,1)\n",
    "pp.polar_contourf(r.f[1:-1], th.f[:], U[:,1:-1,1], (0-cf,1-cf))\n",
    "plt.title(\"U mean\")\n",
    "\n",
    "plt.subplot(1,4,2)\n",
    "pp.polar_contourf(r.f[1:-1], th.f[:], puls[:,1:-1], (-0.04,0.04))\n",
    "plt.title(\"pulsaions\")\n",
    "\n",
    "plt.subplot(1,4,3)\n",
    "pp.polar_contourf(r.n[1:-1], th.n[:-1], OX[:-1,1:-1,1], (-0.09,0.09))\n",
    "plt.title(\"OX mean\")\n",
    "\n",
    "plt.subplot(1,4,4)\n",
    "pp.polar_arrow(V[1:-1:3,1:-1:3,1], W[1:-1:3,1:-1:3,1], r.n[1:-1:3], th.n[1:-1:3], 20)\n",
    "plt.title(\"(V,W) mean\")"
   ]
  },
  {
   "cell_type": "code",
   "execution_count": null,
   "metadata": {
    "collapsed": true
   },
   "outputs": [],
   "source": []
  },
  {
   "cell_type": "code",
   "execution_count": 43,
   "metadata": {
    "collapsed": false
   },
   "outputs": [],
   "source": [
    "def donate0(vel,om):\n",
    "    Im = 2**lx\n",
    "    Km = 2**lt\n",
    "    yt1 = sym.wr.dimr.yt1\n",
    "    yt = sym.wr.dimr.yt\n",
    "    hx = sym.wr.dimx.hx\n",
    "    ht = sym.wr.dimt.ht\n",
    "    \n",
    "    vel[:,:,:,0] = vel[:,:,:,-2]\n",
    "    vel[:,:,:,-1] = vel[:,:,:,1]\n",
    "\n",
    "    om[:,:,:,0] = om[:,:,:,-2]\n",
    "    om[:,:,:,-1] = om[:,:,:,1]\n",
    "\n",
    "    u,v,w = vel\n",
    "    ox,on,ot = om\n",
    "    \n",
    "    d = sym.new_z_pfield()\n",
    "    for k in range(1,Km+1):\n",
    "        for j in range(1,Jm+1):\n",
    "            for i in range(1,Im+1):\n",
    "                d[k,j,i] = - 0.5 * (u[k+1,j,i] + u[k,j,i]) * (ox[k,j,i+1] - ox[k,j,i]) / hx \\\n",
    "                           - 0.5 * (v[k+1,j,i] + v[k,j,i]) * (ox[k,j+1,i] - ox[k,j,i]) / yt1[j] \\\n",
    "                           - w[k,j,i] * (ox[k+1,j,i] - ox[k-1,j,i]) / (2 * yt[j] * ht) \\\n",
    "                    + ox[k,j,i] * 0.5 * (u[k,j,i+1] - u[k,j,i] + u[k+1,j,i+1] - u[k+1,j,i]) / hx \\\n",
    "                    + on[k,j,i] * 0.5 * (u[k,j+1,i] - u[k,j,i] + u[k+1,j+1,i] - u[k+1,j,i]) / yt1[j] \\\n",
    "                    + 0.5 * (ot[k+1,j,i] + ot[k,j,i]) * (u[k+1,j,i] - u[k,j,i]) / (yt[j] * ht)\n",
    "\n",
    "    return d"
   ]
  },
  {
   "cell_type": "code",
   "execution_count": 44,
   "metadata": {
    "collapsed": true
   },
   "outputs": [],
   "source": [
    "d0 = donate0(vel,om)"
   ]
  },
  {
   "cell_type": "code",
   "execution_count": 45,
   "metadata": {
    "collapsed": true
   },
   "outputs": [],
   "source": [
    "D0 = donate0(VEL,OM)"
   ]
  },
  {
   "cell_type": "code",
   "execution_count": 46,
   "metadata": {
    "collapsed": true
   },
   "outputs": [],
   "source": [
    "d1 = d0 - D0 "
   ]
  },
  {
   "cell_type": "code",
   "execution_count": 47,
   "metadata": {
    "collapsed": true
   },
   "outputs": [],
   "source": [
    "d1_ = donate0(vel-VEL, om-OM)"
   ]
  },
  {
   "cell_type": "code",
   "execution_count": null,
   "metadata": {
    "collapsed": true
   },
   "outputs": [],
   "source": []
  },
  {
   "cell_type": "code",
   "execution_count": 54,
   "metadata": {
    "collapsed": false
   },
   "outputs": [
    {
     "data": {
      "text/plain": [
       "<matplotlib.text.Text at 0x7f23cdc41dd0>"
      ]
     },
     "execution_count": 54,
     "metadata": {},
     "output_type": "execute_result"
    },
    {
     "data": {
      "image/png": "[encoded data removed]",
      "text/plain": [
       "<matplotlib.figure.Figure at 0x7f23cdfce350>"
      ]
     },
     "metadata": {},
     "output_type": "display_data"
    }
   ],
   "source": [
    "plt.figure(figsize=(16,4))\n",
    "\n",
    "plt.subplot(1,4,1)\n",
    "pp.polar_contourf(r.f[1:-1], th.n[0:-1], D0[0:-1,1:-1,1:-1].mean(-1), (-0.09,0.09))\n",
    "plt.title(\"mean flow d\")\n",
    "\n",
    "plt.subplot(1,4,2)\n",
    "pp.polar_contourf(r.f[1:-1], th.n[0:-1], d1[0:-1,1:-1,1:-1].mean(-1), (-0.09,0.09))\n",
    "plt.title(\"pulsations d\")\n",
    "\n",
    "plt.subplot(1,4,3)\n",
    "pp.polar_contourf(r.f[1:-1], th.n[0:-1], d1[0:-1,1:-1,1:-1].mean(-1), (-0.01,0.01))\n",
    "plt.title(\"10x pulsations d\")\n"
   ]
  },
  {
   "cell_type": "code",
   "execution_count": 49,
   "metadata": {
    "collapsed": false
   },
   "outputs": [],
   "source": [
    "def ox_visk(ox):\n",
    "    visk = sym.new_z_pfield()\n",
    "    for k in range(1,Km+1):\n",
    "        for j in range(1,Jm+1):\n",
    "            for i in range(1,Im+1):\n",
    "                visk[k,j,i] = (ox[k,j,i+1] + ox[k,j,i-1] - 2*ox[k,j,i]) / hx**2 \\\n",
    "                            + (ox[k,j+1,i] + ox[k,j-1,i] - 2*ox[k,j,i]) / yt1[j]**2 \\\n",
    "                            + (ox[k+1,j,i] + ox[k-1,j,i] - 2*ox[k,j,i]) / (yt[j] * ht)**2\n",
    "\n",
    "    visk /= Re\n",
    "    return visk"
   ]
  },
  {
   "cell_type": "code",
   "execution_count": null,
   "metadata": {
    "collapsed": true
   },
   "outputs": [],
   "source": [
    "VISK = ox_visk(OX)"
   ]
  },
  {
   "cell_type": "code",
   "execution_count": null,
   "metadata": {
    "collapsed": true
   },
   "outputs": [],
   "source": [
    "res = d0[:,:,1:-1].mean() + VISK[:,:,1]"
   ]
  },
  {
   "cell_type": "code",
   "execution_count": null,
   "metadata": {
    "collapsed": false
   },
   "outputs": [],
   "source": [
    "res[1:-1,1:-1].max()"
   ]
  },
  {
   "cell_type": "code",
   "execution_count": null,
   "metadata": {
    "collapsed": false
   },
   "outputs": [],
   "source": [
    "sym.ffmean(res**2)**0.5"
   ]
  },
  {
   "cell_type": "code",
   "execution_count": 50,
   "metadata": {
    "collapsed": false
   },
   "outputs": [],
   "source": [
    "res = d0.copy() #+ ox_visk(ox)\n",
    "for i in range(1,Im+1):\n",
    "    res[:,:,i] += cf * (ox[:,:,i+1] - ox[:,:,i-1]) / (2 * hx)"
   ]
  },
  {
   "cell_type": "code",
   "execution_count": null,
   "metadata": {
    "collapsed": false
   },
   "outputs": [],
   "source": [
    "sym.ffmean(res**2)**0.5"
   ]
  },
  {
   "cell_type": "code",
   "execution_count": 51,
   "metadata": {
    "collapsed": false
   },
   "outputs": [
    {
     "data": {
      "text/plain": [
       "0.031727688359598424"
      ]
     },
     "execution_count": 51,
     "metadata": {},
     "output_type": "execute_result"
    }
   ],
   "source": [
    "sym.ffmean(d0**2)**0.5"
   ]
  },
  {
   "cell_type": "code",
   "execution_count": 52,
   "metadata": {
    "collapsed": false
   },
   "outputs": [
    {
     "data": {
      "text/plain": [
       "0.029706171002484374"
      ]
     },
     "execution_count": 52,
     "metadata": {},
     "output_type": "execute_result"
    }
   ],
   "source": [
    "sym.ffmean(D0**2)**0.5"
   ]
  },
  {
   "cell_type": "code",
   "execution_count": null,
   "metadata": {
    "collapsed": false
   },
   "outputs": [],
   "source": [
    "d0[2:-2,10:-1,1:-1].max()"
   ]
  },
  {
   "cell_type": "code",
   "execution_count": null,
   "metadata": {
    "collapsed": true
   },
   "outputs": [],
   "source": []
  }
 ],
 "metadata": {
  "kernelspec": {
   "display_name": "Python 2",
   "language": "python",
   "name": "python2"
  },
  "language_info": {
   "codemirror_mode": {
    "name": "ipython",
    "version": 2
   },
   "file_extension": ".py",
   "mimetype": "text/x-python",
   "name": "python",
   "nbconvert_exporter": "python",
   "pygments_lexer": "ipython2",
   "version": "2.7.10"
  }
 },
 "nbformat": 4,
 "nbformat_minor": 0
}
