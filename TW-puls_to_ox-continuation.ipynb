{
 "cells": [
  {
   "cell_type": "code",
   "execution_count": 1,
   "metadata": {
    "collapsed": true
   },
   "outputs": [],
   "source": [
    "import math"
   ]
  },
  {
   "cell_type": "code",
   "execution_count": 2,
   "metadata": {
    "collapsed": true
   },
   "outputs": [],
   "source": [
    "import pipe_pytools.polar_plot as pp\n",
    "import pipe_pytools.tools as tl\n",
    "import pipe_pytools.grid as gr"
   ]
  },
  {
   "cell_type": "code",
   "execution_count": 3,
   "metadata": {
    "collapsed": true
   },
   "outputs": [],
   "source": [
    "import numpy as np\n",
    "import matplotlib.pyplot as plt\n",
    "%matplotlib inline"
   ]
  },
  {
   "cell_type": "code",
   "execution_count": 4,
   "metadata": {
    "collapsed": false
   },
   "outputs": [],
   "source": [
    "t,dt,cf,Re,Xmax,epsr,lx,Jm,lt,nsym,vel = tl.get_scp(\"tw-Re2500-Xmax5.scp\")"
   ]
  },
  {
   "cell_type": "code",
   "execution_count": 5,
   "metadata": {
    "collapsed": true
   },
   "outputs": [],
   "source": [
    "x = gr.X(2**lx, Xmax)\n",
    "r = gr.R(Jm, epsr)\n",
    "th = gr.Th(2**lt, nsym)"
   ]
  },
  {
   "cell_type": "code",
   "execution_count": 6,
   "metadata": {
    "collapsed": false
   },
   "outputs": [],
   "source": [
    "Im = x.m\n",
    "hx = x.h\n",
    "yt = r.f\n",
    "yt1 = r.f1\n",
    "rt = r.n\n",
    "rt1 = r.n1\n",
    "Km = th.m\n",
    "ht = th.h"
   ]
  },
  {
   "cell_type": "code",
   "execution_count": 7,
   "metadata": {
    "collapsed": true
   },
   "outputs": [],
   "source": [
    "def bc(vel):\n",
    "    u,v,w = vel\n",
    "        \n",
    "    vel[:,:,:,0] = vel[:,:,:,-2]\n",
    "    vel[:,:,:,-1] = vel[:,:,:,1]\n",
    "    \n",
    "    for i in range(0,Im+1):\n",
    "        for j in range(1,Jm+1):\n",
    "            u.T[i,j,0] = u.T[i,j,1]\n",
    "            u.T[i,j,Km+1] = u.T[i,j,Km]\n",
    "            \n",
    "        for k in range(1,Km+1):\n",
    "            u.T[i,Jm+1,k] = - u.T[i,Jm,k]\n",
    "            \n",
    "    for k in range(1,Km+1):\n",
    "        for i in range(1,Im+1):\n",
    "            v.T[i,Jm,k] = 0.0\n",
    "            \n",
    "    for j in range(1,Jm+1):\n",
    "        for i in range(1,Im+1):\n",
    "            v.T[i,j,0] = v.T[i,j,1]\n",
    "            v.T[i,j,Km+1] = v.T[i,j,Km]\n",
    "            \n",
    "    for j in range(1,Jm+1):\n",
    "        for i in range(0,Im+2):\n",
    "            w.T[i,j,0] = 0.0\n",
    "            w.T[i,j,Km] = 0.0\n",
    "            \n",
    "    for k in range(0,Km+1):\n",
    "        for i in range(1,Im+1):\n",
    "            w.T[i,Jm+1,k] = - w.T[i,Jm,k] * yt[Jm] / yt[Jm+1]\n",
    "            \n",
    "    return vel"
   ]
  },
  {
   "cell_type": "code",
   "execution_count": 8,
   "metadata": {
    "collapsed": false
   },
   "outputs": [],
   "source": [
    "def rot(vel):\n",
    "    bc(vel)\n",
    "    u,v,w = vel\n",
    "    \n",
    "    om = np.zeros((3,Km+2,Jm+2,Im+2))\n",
    "    ox,on,ot = om\n",
    "    \n",
    "    for i in range(1,Im+1):\n",
    "        for j in range(1,Jm+1):\n",
    "            for k in range(0,Km+1):\n",
    "                w0 = w.T[i,j,k]\n",
    "                w1 = w.T[i,j+1,k]\n",
    "                v0 = v.T[i,j,k]\n",
    "                v1 = v.T[i,j,k+1]\n",
    "                ox.T[i,j,k] = ((yt[j+1]*w1 - yt[j]*w0) / rt1[j] - (v1 - v0) / ht) / rt[j]\n",
    "                \n",
    "        for j in range(0,1):\n",
    "            for k in range(0,Km+1):\n",
    "                ox.T[i,j,k] = 0.0\n",
    "                \n",
    "    for k in range(0,Km+1):\n",
    "        for j in range(1,Jm+1):\n",
    "            for i in range(0,Im+1):\n",
    "                u0 = u.T[i,j,k]\n",
    "                u1 = u.T[i,j,k+1]\n",
    "                w0 = w.T[i,j,k]\n",
    "                w1 = w.T[i+1,j,k]\n",
    "                on.T[i,j,k] = (u1 - u0) / (yt[j] * ht) - (w1 - w0) / hx\n",
    "                \n",
    "    for k in range(1,Km+1):\n",
    "        for j in range(1,Jm+1):\n",
    "            for i in range(0,Im+1):\n",
    "                u0 = u.T[i,j,k]\n",
    "                u1 = u.T[i,j+1,k]\n",
    "                v0 = v.T[i,j,k]\n",
    "                v1 = v.T[i+1,j,k]\n",
    "                ot.T[i,j,k] = (v1 - v0) / hx - (u1 - u0) / rt1[j]\n",
    "    \n",
    "    return om"
   ]
  },
  {
   "cell_type": "code",
   "execution_count": 9,
   "metadata": {
    "collapsed": false
   },
   "outputs": [],
   "source": [
    "def nonlin(vel,om):\n",
    "    u,v,w = vel\n",
    "    ox,on,ot = om\n",
    "    velt = np.zeros((3,Km+2,Jm+2,Im+2))\n",
    "    ut,vt,wt = velt\n",
    "    \n",
    "    for i in range(1,Im+1):\n",
    "        for j in range(1,Jm+1):\n",
    "            for k in range(1,Km+1):\n",
    "                v0 = 0.5 * (v.T[i,j-1,k] + v.T[i+1,j-1,k])\n",
    "                v1 = 0.5 * (v.T[i,j,k] + v.T[i+1,j,k])\n",
    "                ot0 = rt[j-1] * rt1[j-1] * ot.T[i,j-1,k]\n",
    "                ot1 = rt[j] * rt1[j] * ot.T[i,j,k]\n",
    "                w0 = 0.5 * (w.T[i,j,k-1] + w.T[i+1,j,k-1])\n",
    "                w1 = 0.5 * (w.T[i,j,k] + w.T[i+1,j,k])\n",
    "                or0 = on.T[i,j,k-1]\n",
    "                or1 = on.T[i,j,k]\n",
    "                ut.T[i,j,k] = 0.5 * ((v0*ot0 + v1*ot1) / (yt[j] * yt1[j]) - (w0*or0 + w1*or1))\n",
    "        \n",
    "    for k in range(1,Km+1):\n",
    "        for i in range(1,Im+1):\n",
    "            for j in range(1,Jm):\n",
    "                w0 = 0.5 * (w.T[i,j,k-1] + w.T[i,j+1,k-1])\n",
    "                w1 = 0.5 * (w.T[i,j,k] + w.T[i,j+1,k])\n",
    "                ox0 = ox.T[i,j,k-1]\n",
    "                ox1 = ox.T[i,j,k]\n",
    "                u0 = 0.5 * (u.T[i-1,j,k] + u.T[i-1,j+1,k])\n",
    "                u1 = 0.5 * (u.T[i,j,k] + u.T[i,j+1,k])\n",
    "                ot0 = ot.T[i-1,j,k]\n",
    "                ot1 = ot.T[i,j,k]\n",
    "                vt.T[i,j,k] = 0.5 * ((w0*ox0 + w1*ox1) - (u0*ot0 + u1*ot1))\n",
    "        \n",
    "            vt.T[i,Jm,k] = 0.0\n",
    "            \n",
    "    for k in range(1,Km+1):\n",
    "        for j in range(1,Jm+1):\n",
    "            for i in range(1,Im+1):\n",
    "                u0 = 0.5 * (u.T[i-1,j,k] + u.T[i-1,j,k+1])\n",
    "                u1 = 0.5 * (u.T[i,j,k] + u.T[i,j,k+1])\n",
    "                or0 = on.T[i-1,j,k]\n",
    "                or1 = on.T[i,j,k]\n",
    "                v0 = 0.5 * (v.T[i,j-1,k] + v.T[i,j-1,k+1])\n",
    "                v1 = 0.5 * (v.T[i,j,k] + v.T[i,j,k+1])\n",
    "                ox0 = rt[j-1] * rt1[j-1] * ox.T[i,j-1,k]\n",
    "                ox1 = rt[j] * rt1[j] * ox.T[i,j,k]\n",
    "                wt.T[i,j,k] = 0.5 * ((u0*or0 + u1*or1) - (v0*ox0 + v1*ox1) / (yt[j] * yt1[j]))\n",
    "                \n",
    "    return velt"
   ]
  },
  {
   "cell_type": "code",
   "execution_count": 10,
   "metadata": {
    "collapsed": true
   },
   "outputs": [],
   "source": [
    "def viscous(om,Re):\n",
    "    ox,on,ot = om\n",
    "    \n",
    "    velt = np.zeros((3,Km+2,Jm+2,Im+2))\n",
    "    ut,vt,wt = velt\n",
    "    \n",
    "    for i in range(1,Im+1):\n",
    "        for j in range(1,Jm+1):\n",
    "            for k in range(1,Km+1):\n",
    "                ot0 = ot.T[i,j-1,k]\n",
    "                ot1 = ot.T[i,j,k]\n",
    "                or0 = on.T[i,j,k-1]\n",
    "                or1 = on.T[i,j,k]\n",
    "                ut.T[i,j,k] = - ((rt[j]*ot1 - rt[j-1]*ot0) / yt1[j] - (or1 - or0) / ht) / yt[j] / Re\n",
    "        \n",
    "    for k in range(1,Km+1):\n",
    "        for j in range(1,Jm):\n",
    "            for i in range(1,Im+1):\n",
    "                ox0 = ox.T[i,j,k-1]\n",
    "                ox1 = ox.T[i,j,k]\n",
    "                ot0 = ot.T[i-1,j,k]\n",
    "                ot1 = ot.T[i,j,k]\n",
    "                vt.T[i,j,k] = - ((ox1 - ox0) / (rt[j] * ht) - (ot1 - ot0) / hx) / Re\n",
    "        \n",
    "    for k in range(1,Km+1):\n",
    "        for j in range(1,Jm+1):\n",
    "            for i in range(1,Im+1):\n",
    "                ox0 = ox.T[i,j-1,k]\n",
    "                ox1 = ox.T[i,j,k]\n",
    "                or0 = on.T[i-1,j,k]\n",
    "                or1 = on.T[i,j,k]\n",
    "                wt.T[i,j,k] = - ((or1 - or0) / hx - (ox1 - ox0) / yt1[j]) / Re\n",
    "        \n",
    "    return velt"
   ]
  },
  {
   "cell_type": "code",
   "execution_count": 11,
   "metadata": {
    "collapsed": false,
    "scrolled": true
   },
   "outputs": [],
   "source": [
    "om = rot(vel)"
   ]
  },
  {
   "cell_type": "code",
   "execution_count": 12,
   "metadata": {
    "collapsed": false
   },
   "outputs": [],
   "source": [
    "nl = nonlin(vel,om)"
   ]
  },
  {
   "cell_type": "code",
   "execution_count": 13,
   "metadata": {
    "collapsed": true
   },
   "outputs": [],
   "source": [
    "vc = viscous(om,Re)"
   ]
  },
  {
   "cell_type": "code",
   "execution_count": 14,
   "metadata": {
    "collapsed": true
   },
   "outputs": [],
   "source": [
    "rot_nl = rot(nl)"
   ]
  },
  {
   "cell_type": "code",
   "execution_count": 15,
   "metadata": {
    "collapsed": true
   },
   "outputs": [],
   "source": [
    "rot_vc = rot(vc)"
   ]
  },
  {
   "cell_type": "code",
   "execution_count": 16,
   "metadata": {
    "collapsed": false
   },
   "outputs": [],
   "source": [
    "res = rot_nl + rot_vc\n",
    "om[:,:,:,0] = om[:,:,:,-2]\n",
    "om[:,:,:,-1] = om[:,:,:,1]\n",
    "for i in range(1,Im+1):\n",
    "    res[:,:,:,i] += cf * (om[:,:,:,i+1] - om[:,:,:,i-1]) / (2 * hx)"
   ]
  },
  {
   "cell_type": "code",
   "execution_count": 17,
   "metadata": {
    "collapsed": false
   },
   "outputs": [
    {
     "data": {
      "text/plain": [
       "0.0021420410431490233"
      ]
     },
     "execution_count": 17,
     "metadata": {},
     "output_type": "execute_result"
    }
   ],
   "source": [
    "res[:,1:-1,1:-2,40].max()"
   ]
  },
  {
   "cell_type": "code",
   "execution_count": 18,
   "metadata": {
    "collapsed": false
   },
   "outputs": [
    {
     "data": {
      "text/plain": [
       "0.53066414538698536"
      ]
     },
     "execution_count": 18,
     "metadata": {},
     "output_type": "execute_result"
    }
   ],
   "source": [
    "rot_nl[:,1:-1,1:-1,1:-1].max()"
   ]
  },
  {
   "cell_type": "code",
   "execution_count": 19,
   "metadata": {
    "collapsed": false
   },
   "outputs": [
    {
     "data": {
      "text/plain": [
       "0.14159385716384285"
      ]
     },
     "execution_count": 19,
     "metadata": {},
     "output_type": "execute_result"
    }
   ],
   "source": [
    "rot_vc[:,1:-1,1:-1,1:-1].max()"
   ]
  },
  {
   "cell_type": "code",
   "execution_count": null,
   "metadata": {
    "collapsed": true
   },
   "outputs": [],
   "source": []
  },
  {
   "cell_type": "code",
   "execution_count": 20,
   "metadata": {
    "collapsed": false
   },
   "outputs": [],
   "source": [
    "VEL = np.zeros((3,Km+2,Jm+2,Im+2))\n",
    "VEL.T[:] = vel.T[1:-1].mean(0)"
   ]
  },
  {
   "cell_type": "code",
   "execution_count": 21,
   "metadata": {
    "collapsed": true
   },
   "outputs": [],
   "source": [
    "OM = np.zeros((3,Km+2,Jm+2,Im+2))\n",
    "OM.T[:] = om.T[1:-1].mean(0)"
   ]
  },
  {
   "cell_type": "code",
   "execution_count": 22,
   "metadata": {
    "collapsed": false
   },
   "outputs": [],
   "source": [
    "vel1 = vel - VEL\n",
    "om1 = om - OM"
   ]
  },
  {
   "cell_type": "code",
   "execution_count": 23,
   "metadata": {
    "collapsed": true
   },
   "outputs": [],
   "source": [
    "d11 = rot(nonlin(vel1,om1))"
   ]
  },
  {
   "cell_type": "code",
   "execution_count": 36,
   "metadata": {
    "collapsed": false
   },
   "outputs": [],
   "source": [
    "def conv(vel,om):\n",
    "    u,v,w = vel\n",
    "    ox,on,ot = om\n",
    "    \n",
    "    cx = np.zeros_like(u)\n",
    "    \n",
    "    for k in range(1,Km+1):\n",
    "        for j in range(1,Jm+1):\n",
    "            for i in range(1,Im+1):\n",
    "                cx[k,j,i] = - u[k,j,i] * (ox[k,j,i+1] - ox[k,j,i]) / hx \\\n",
    "                            - v[k,j,i] * (ox[k,j+1,i] - ox[k,j,i]) / yt1[j] \\\n",
    "                            - w[k,j,i] * (ox[k+1,j,i] - ox[k,j,i]) / (ht * yt[j])\n",
    "                        \n",
    "    return cx"
   ]
  },
  {
   "cell_type": "code",
   "execution_count": 37,
   "metadata": {
    "collapsed": true
   },
   "outputs": [],
   "source": [
    "def phi1(vel,om):\n",
    "    u,v,w = vel\n",
    "    ox,on,ot = om\n",
    "    \n",
    "    p1 = np.zeros_like(u)\n",
    "    \n",
    "    for k in range(1,Km+1):\n",
    "        for j in range(1,Jm+1):\n",
    "            for i in range(1,Im+1):\n",
    "                p1[k,j,i] = ox[k,j,i] * (u[k,j,i+1] - u[k,j,i]) / hx\n",
    "                    \n",
    "    return p1"
   ]
  },
  {
   "cell_type": "code",
   "execution_count": 38,
   "metadata": {
    "collapsed": true
   },
   "outputs": [],
   "source": [
    "def phi2(vel,om):\n",
    "    u,v,w = vel\n",
    "    ox,on,ot = om\n",
    "    \n",
    "    p2 = np.zeros_like(u)\n",
    "    \n",
    "    for k in range(1,Km+1):\n",
    "        for j in range(1,Jm+1):\n",
    "            for i in range(1,Im+1):\n",
    "                p2[k,j,i] = on[k,j,i] * (u[k,j+1,i] - u[k,j,i]) / yt1[j] + \\\n",
    "                            ot[k,j,i] * (u[k+1,j,i] - u[k,j,i]) / (yt[j] * ht)\n",
    "                    \n",
    "    return p2"
   ]
  },
  {
   "cell_type": "code",
   "execution_count": 39,
   "metadata": {
    "collapsed": true
   },
   "outputs": [],
   "source": [
    "c11 = conv(vel1,om1)"
   ]
  },
  {
   "cell_type": "code",
   "execution_count": 31,
   "metadata": {
    "collapsed": true
   },
   "outputs": [],
   "source": [
    "p1_11 = phi1(vel1,om1)"
   ]
  },
  {
   "cell_type": "code",
   "execution_count": 32,
   "metadata": {
    "collapsed": true
   },
   "outputs": [],
   "source": [
    "p2_11 = phi2(vel1,om1)"
   ]
  },
  {
   "cell_type": "code",
   "execution_count": 102,
   "metadata": {
    "collapsed": true
   },
   "outputs": [],
   "source": [
    "res = c11 + p1_11 + p2_11"
   ]
  },
  {
   "cell_type": "code",
   "execution_count": 104,
   "metadata": {
    "collapsed": false
   },
   "outputs": [
    {
     "data": {
      "text/plain": [
       "0.00031162815505524213"
      ]
     },
     "execution_count": 104,
     "metadata": {},
     "output_type": "execute_result"
    }
   ],
   "source": [
    "np.abs((res - d11[0])[2:-2,2:-2,2:-2]).mean()"
   ]
  },
  {
   "cell_type": "code",
   "execution_count": 95,
   "metadata": {
    "collapsed": false
   },
   "outputs": [
    {
     "data": {
      "text/plain": [
       "0.00080718434634564971"
      ]
     },
     "execution_count": 95,
     "metadata": {},
     "output_type": "execute_result"
    }
   ],
   "source": [
    "np.abs(d11[0,2:-2,2:-2,2:-2]).mean()"
   ]
  },
  {
   "cell_type": "code",
   "execution_count": 96,
   "metadata": {
    "collapsed": false
   },
   "outputs": [
    {
     "data": {
      "text/plain": [
       "0.00074676787719794716"
      ]
     },
     "execution_count": 96,
     "metadata": {},
     "output_type": "execute_result"
    }
   ],
   "source": [
    "np.abs(c11[2:-2,2:-2,1:-1]).mean()"
   ]
  },
  {
   "cell_type": "code",
   "execution_count": 97,
   "metadata": {
    "collapsed": false
   },
   "outputs": [
    {
     "data": {
      "text/plain": [
       "0.00047838497978093438"
      ]
     },
     "execution_count": 97,
     "metadata": {},
     "output_type": "execute_result"
    }
   ],
   "source": [
    "np.abs(p1_11[2:-2,2:-2,1:-1]).mean()"
   ]
  },
  {
   "cell_type": "code",
   "execution_count": 98,
   "metadata": {
    "collapsed": false
   },
   "outputs": [
    {
     "data": {
      "text/plain": [
       "0.00029320612377017777"
      ]
     },
     "execution_count": 98,
     "metadata": {},
     "output_type": "execute_result"
    }
   ],
   "source": [
    "np.abs(p2_11[2:-2,2:-2,1:-1]).mean()"
   ]
  },
  {
   "cell_type": "code",
   "execution_count": 106,
   "metadata": {
    "collapsed": false
   },
   "outputs": [
    {
     "data": {
      "text/plain": [
       "<matplotlib.text.Text at 0x7f8559303810>"
      ]
     },
     "execution_count": 106,
     "metadata": {},
     "output_type": "execute_result"
    },
    {
     "data": {
      "image/png": "[encoded data removed]",
      "text/plain": [
       "<matplotlib.figure.Figure at 0x7f85596c3ad0>"
      ]
     },
     "metadata": {},
     "output_type": "display_data"
    }
   ],
   "source": [
    "plt.figure(figsize=(16,4))\n",
    "\n",
    "plt.subplot(1,4,1)\n",
    "pp.polar_contourf(r.f[1:-1], th.f[1:-1], d11[0,1:-1,1:-1,1:-1].mean(-1), (-0.006,0.006))\n",
    "plt.title(\"sum, amp=0.006\", fontsize=14)\n",
    "plt.xlabel(\"max=%f\" % d11[0,2:-2,2:-2,1:-1].mean(-1).max(), fontsize=14)\n",
    "\n",
    "plt.subplot(1,4,2)\n",
    "pp.polar_contourf(r.f[1:-1], th.f[1:-1], c11[1:-1,1:-1,1:-1].mean(-1), (-0.006, 0.006))\n",
    "plt.title(\"c(v',om'), amp=0.006\", fontsize=14)\n",
    "plt.xlabel(\"max=%f\" % c11[2:-2,2:-2,1:-1].mean(-1).max(), fontsize=14)\n",
    "\n",
    "plt.subplot(1,4,3)\n",
    "pp.polar_contourf(r.f[1:-1], th.f[1:-1], p1_11[1:-1,1:-1,1:-1].mean(-1), (-0.006,0.006))\n",
    "plt.title(\"p1(v',om'), amp=0.006\", fontsize=14)\n",
    "plt.xlabel(\"max=%f\" % p1_11[2:-2,2:-2,1:-1].mean(-1).max(), fontsize=14)\n",
    "\n",
    "plt.subplot(1,4,4)\n",
    "pp.polar_contourf(r.f[1:-1], th.f[1:-1], p2_11[1:-1,1:-1,1:-1].mean(-1), (-0.006,0.006))\n",
    "plt.title(\"p2(v',om'), amp=0.006\", fontsize=14)\n",
    "plt.xlabel(\"max=%f\" % p2_11[2:-2,2:-2,1:-1].mean(-1).max(), fontsize=14)"
   ]
  },
  {
   "cell_type": "code",
   "execution_count": 88,
   "metadata": {
    "collapsed": true
   },
   "outputs": [],
   "source": [
    "res = (nonlin(vel1 + om1, rot(vel1 + om1)) - nonlin(vel1, om1) - nonlin(om1, rot(om1)) - rot(nonlin(vel1,om1))) / 2"
   ]
  },
  {
   "cell_type": "code",
   "execution_count": 89,
   "metadata": {
    "collapsed": true
   },
   "outputs": [],
   "source": [
    "rrr = res[0] + p1_11 + p2_11"
   ]
  },
  {
   "cell_type": "code",
   "execution_count": 91,
   "metadata": {
    "collapsed": false
   },
   "outputs": [
    {
     "data": {
      "text/plain": [
       "0.14870904660071507"
      ]
     },
     "execution_count": 91,
     "metadata": {},
     "output_type": "execute_result"
    }
   ],
   "source": [
    "rrr[2:-2,2:-2,2:-2].max()"
   ]
  },
  {
   "cell_type": "code",
   "execution_count": 92,
   "metadata": {
    "collapsed": false
   },
   "outputs": [
    {
     "data": {
      "text/plain": [
       "0.14874737709512076"
      ]
     },
     "execution_count": 92,
     "metadata": {},
     "output_type": "execute_result"
    }
   ],
   "source": [
    "res[0,2:-2,2:-2,2:-2].max()"
   ]
  },
  {
   "cell_type": "code",
   "execution_count": 107,
   "metadata": {
    "collapsed": false
   },
   "outputs": [
    {
     "data": {
      "text/plain": [
       "0.00021789009271901919"
      ]
     },
     "execution_count": 107,
     "metadata": {},
     "output_type": "execute_result"
    }
   ],
   "source": [
    "c11[2:16,2:-2,2:-2].mean()"
   ]
  },
  {
   "cell_type": "code",
   "execution_count": 108,
   "metadata": {
    "collapsed": false
   },
   "outputs": [
    {
     "data": {
      "text/plain": [
       "<matplotlib.text.Text at 0x7f8559055b10>"
      ]
     },
     "execution_count": 108,
     "metadata": {},
     "output_type": "execute_result"
    },
    {
     "data": {
      "image/png": "[encoded data removed]",
      "text/plain": [
       "<matplotlib.figure.Figure at 0x7f855930fb50>"
      ]
     },
     "metadata": {},
     "output_type": "display_data"
    }
   ],
   "source": [
    "plt.figure(figsize=(16,4))\n",
    "\n",
    "plt.subplot(1,4,1)\n",
    "pp.polar_contourf(r.f[1:-1], th.f[1:-1], c11[1:-1,1:-1,8], (-0.006,0.006))\n",
    "plt.title(\"sum, amp=0.006\", fontsize=14)\n",
    "plt.xlabel(\"max=%f\" % d11[0,2:-2,2:-2,1:-1].mean(-1).max(), fontsize=14)\n",
    "\n",
    "plt.subplot(1,4,2)\n",
    "pp.polar_contourf(r.f[1:-1], th.f[1:-1], c11[1:-1,1:-1,16], (-0.006, 0.006))\n",
    "plt.title(\"c(v',om'), amp=0.006\", fontsize=14)\n",
    "plt.xlabel(\"max=%f\" % c11[2:-2,2:-2,1:-1].mean(-1).max(), fontsize=14)\n",
    "\n",
    "plt.subplot(1,4,3)\n",
    "pp.polar_contourf(r.f[1:-1], th.f[1:-1], c11[1:-1,1:-1,24], (-0.006,0.006))\n",
    "plt.title(\"p1(v',om'), amp=0.006\", fontsize=14)\n",
    "plt.xlabel(\"max=%f\" % p1_11[2:-2,2:-2,1:-1].mean(-1).max(), fontsize=14)\n",
    "\n",
    "plt.subplot(1,4,4)\n",
    "pp.polar_contourf(r.f[1:-1], th.f[1:-1], c11[1:-1,1:-1,32], (-0.006,0.006))\n",
    "plt.title(\"p2(v',om'), amp=0.006\", fontsize=14)\n",
    "plt.xlabel(\"max=%f\" % p2_11[2:-2,2:-2,1:-1].mean(-1).max(), fontsize=14)"
   ]
  },
  {
   "cell_type": "code",
   "execution_count": null,
   "metadata": {
    "collapsed": true
   },
   "outputs": [],
   "source": []
  }
 ],
 "metadata": {
  "kernelspec": {
   "display_name": "Python 2",
   "language": "python",
   "name": "python2"
  },
  "language_info": {
   "codemirror_mode": {
    "name": "ipython",
    "version": 2
   },
   "file_extension": ".py",
   "mimetype": "text/x-python",
   "name": "python",
   "nbconvert_exporter": "python",
   "pygments_lexer": "ipython2",
   "version": "2.7.10"
  }
 },
 "nbformat": 4,
 "nbformat_minor": 0
}
